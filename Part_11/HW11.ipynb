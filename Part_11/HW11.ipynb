{
  "nbformat": 4,
  "nbformat_minor": 0,
  "metadata": {
    "colab": {
      "provenance": [],
      "collapsed_sections": []
    },
    "kernelspec": {
      "name": "python3",
      "display_name": "Python 3"
    },
    "language_info": {
      "name": "python"
    },
    "accelerator": "GPU",
    "widgets": {
      "application/vnd.jupyter.widget-state+json": {
        "0090a1b37c3148599db0136004ff2e6a": {
          "model_module": "@jupyter-widgets/controls",
          "model_name": "HBoxModel",
          "model_module_version": "1.5.0",
          "state": {
            "_dom_classes": [],
            "_model_module": "@jupyter-widgets/controls",
            "_model_module_version": "1.5.0",
            "_model_name": "HBoxModel",
            "_view_count": null,
            "_view_module": "@jupyter-widgets/controls",
            "_view_module_version": "1.5.0",
            "_view_name": "HBoxView",
            "box_style": "",
            "children": [
              "IPY_MODEL_79e196dcb0f64fb7b9c317879c359b51",
              "IPY_MODEL_59df8304a19c44cd94ebf9503c7da1ab",
              "IPY_MODEL_893c79312ac144e295a3f3afed689d94"
            ],
            "layout": "IPY_MODEL_9eef0b440acc4a1dbb99597ead3cbcd1"
          }
        },
        "79e196dcb0f64fb7b9c317879c359b51": {
          "model_module": "@jupyter-widgets/controls",
          "model_name": "HTMLModel",
          "model_module_version": "1.5.0",
          "state": {
            "_dom_classes": [],
            "_model_module": "@jupyter-widgets/controls",
            "_model_module_version": "1.5.0",
            "_model_name": "HTMLModel",
            "_view_count": null,
            "_view_module": "@jupyter-widgets/controls",
            "_view_module_version": "1.5.0",
            "_view_name": "HTMLView",
            "description": "",
            "description_tooltip": null,
            "layout": "IPY_MODEL_1ba3e34599514fa5bc747d164b27d3e8",
            "placeholder": "​",
            "style": "IPY_MODEL_7964d6d62d304a0597f5e0f98583f298",
            "value": "100%"
          }
        },
        "59df8304a19c44cd94ebf9503c7da1ab": {
          "model_module": "@jupyter-widgets/controls",
          "model_name": "FloatProgressModel",
          "model_module_version": "1.5.0",
          "state": {
            "_dom_classes": [],
            "_model_module": "@jupyter-widgets/controls",
            "_model_module_version": "1.5.0",
            "_model_name": "FloatProgressModel",
            "_view_count": null,
            "_view_module": "@jupyter-widgets/controls",
            "_view_module_version": "1.5.0",
            "_view_name": "ProgressView",
            "bar_style": "success",
            "description": "",
            "description_tooltip": null,
            "layout": "IPY_MODEL_09a6bdd5a42b4b30a24a83550ea6d96e",
            "max": 102,
            "min": 0,
            "orientation": "horizontal",
            "style": "IPY_MODEL_f8d4c41082a543918bac2fe5acbce873",
            "value": 102
          }
        },
        "893c79312ac144e295a3f3afed689d94": {
          "model_module": "@jupyter-widgets/controls",
          "model_name": "HTMLModel",
          "model_module_version": "1.5.0",
          "state": {
            "_dom_classes": [],
            "_model_module": "@jupyter-widgets/controls",
            "_model_module_version": "1.5.0",
            "_model_name": "HTMLModel",
            "_view_count": null,
            "_view_module": "@jupyter-widgets/controls",
            "_view_module_version": "1.5.0",
            "_view_name": "HTMLView",
            "description": "",
            "description_tooltip": null,
            "layout": "IPY_MODEL_404281fd77f043098b579c217bd1e525",
            "placeholder": "​",
            "style": "IPY_MODEL_990a60a0d2324363ac38d418381f8221",
            "value": " 102/102 [00:09&lt;00:00, 11.37it/s]"
          }
        },
        "9eef0b440acc4a1dbb99597ead3cbcd1": {
          "model_module": "@jupyter-widgets/base",
          "model_name": "LayoutModel",
          "model_module_version": "1.2.0",
          "state": {
            "_model_module": "@jupyter-widgets/base",
            "_model_module_version": "1.2.0",
            "_model_name": "LayoutModel",
            "_view_count": null,
            "_view_module": "@jupyter-widgets/base",
            "_view_module_version": "1.2.0",
            "_view_name": "LayoutView",
            "align_content": null,
            "align_items": null,
            "align_self": null,
            "border": null,
            "bottom": null,
            "display": null,
            "flex": null,
            "flex_flow": null,
            "grid_area": null,
            "grid_auto_columns": null,
            "grid_auto_flow": null,
            "grid_auto_rows": null,
            "grid_column": null,
            "grid_gap": null,
            "grid_row": null,
            "grid_template_areas": null,
            "grid_template_columns": null,
            "grid_template_rows": null,
            "height": null,
            "justify_content": null,
            "justify_items": null,
            "left": null,
            "margin": null,
            "max_height": null,
            "max_width": null,
            "min_height": null,
            "min_width": null,
            "object_fit": null,
            "object_position": null,
            "order": null,
            "overflow": null,
            "overflow_x": null,
            "overflow_y": null,
            "padding": null,
            "right": null,
            "top": null,
            "visibility": null,
            "width": null
          }
        },
        "1ba3e34599514fa5bc747d164b27d3e8": {
          "model_module": "@jupyter-widgets/base",
          "model_name": "LayoutModel",
          "model_module_version": "1.2.0",
          "state": {
            "_model_module": "@jupyter-widgets/base",
            "_model_module_version": "1.2.0",
            "_model_name": "LayoutModel",
            "_view_count": null,
            "_view_module": "@jupyter-widgets/base",
            "_view_module_version": "1.2.0",
            "_view_name": "LayoutView",
            "align_content": null,
            "align_items": null,
            "align_self": null,
            "border": null,
            "bottom": null,
            "display": null,
            "flex": null,
            "flex_flow": null,
            "grid_area": null,
            "grid_auto_columns": null,
            "grid_auto_flow": null,
            "grid_auto_rows": null,
            "grid_column": null,
            "grid_gap": null,
            "grid_row": null,
            "grid_template_areas": null,
            "grid_template_columns": null,
            "grid_template_rows": null,
            "height": null,
            "justify_content": null,
            "justify_items": null,
            "left": null,
            "margin": null,
            "max_height": null,
            "max_width": null,
            "min_height": null,
            "min_width": null,
            "object_fit": null,
            "object_position": null,
            "order": null,
            "overflow": null,
            "overflow_x": null,
            "overflow_y": null,
            "padding": null,
            "right": null,
            "top": null,
            "visibility": null,
            "width": null
          }
        },
        "7964d6d62d304a0597f5e0f98583f298": {
          "model_module": "@jupyter-widgets/controls",
          "model_name": "DescriptionStyleModel",
          "model_module_version": "1.5.0",
          "state": {
            "_model_module": "@jupyter-widgets/controls",
            "_model_module_version": "1.5.0",
            "_model_name": "DescriptionStyleModel",
            "_view_count": null,
            "_view_module": "@jupyter-widgets/base",
            "_view_module_version": "1.2.0",
            "_view_name": "StyleView",
            "description_width": ""
          }
        },
        "09a6bdd5a42b4b30a24a83550ea6d96e": {
          "model_module": "@jupyter-widgets/base",
          "model_name": "LayoutModel",
          "model_module_version": "1.2.0",
          "state": {
            "_model_module": "@jupyter-widgets/base",
            "_model_module_version": "1.2.0",
            "_model_name": "LayoutModel",
            "_view_count": null,
            "_view_module": "@jupyter-widgets/base",
            "_view_module_version": "1.2.0",
            "_view_name": "LayoutView",
            "align_content": null,
            "align_items": null,
            "align_self": null,
            "border": null,
            "bottom": null,
            "display": null,
            "flex": null,
            "flex_flow": null,
            "grid_area": null,
            "grid_auto_columns": null,
            "grid_auto_flow": null,
            "grid_auto_rows": null,
            "grid_column": null,
            "grid_gap": null,
            "grid_row": null,
            "grid_template_areas": null,
            "grid_template_columns": null,
            "grid_template_rows": null,
            "height": null,
            "justify_content": null,
            "justify_items": null,
            "left": null,
            "margin": null,
            "max_height": null,
            "max_width": null,
            "min_height": null,
            "min_width": null,
            "object_fit": null,
            "object_position": null,
            "order": null,
            "overflow": null,
            "overflow_x": null,
            "overflow_y": null,
            "padding": null,
            "right": null,
            "top": null,
            "visibility": null,
            "width": null
          }
        },
        "f8d4c41082a543918bac2fe5acbce873": {
          "model_module": "@jupyter-widgets/controls",
          "model_name": "ProgressStyleModel",
          "model_module_version": "1.5.0",
          "state": {
            "_model_module": "@jupyter-widgets/controls",
            "_model_module_version": "1.5.0",
            "_model_name": "ProgressStyleModel",
            "_view_count": null,
            "_view_module": "@jupyter-widgets/base",
            "_view_module_version": "1.2.0",
            "_view_name": "StyleView",
            "bar_color": null,
            "description_width": ""
          }
        },
        "404281fd77f043098b579c217bd1e525": {
          "model_module": "@jupyter-widgets/base",
          "model_name": "LayoutModel",
          "model_module_version": "1.2.0",
          "state": {
            "_model_module": "@jupyter-widgets/base",
            "_model_module_version": "1.2.0",
            "_model_name": "LayoutModel",
            "_view_count": null,
            "_view_module": "@jupyter-widgets/base",
            "_view_module_version": "1.2.0",
            "_view_name": "LayoutView",
            "align_content": null,
            "align_items": null,
            "align_self": null,
            "border": null,
            "bottom": null,
            "display": null,
            "flex": null,
            "flex_flow": null,
            "grid_area": null,
            "grid_auto_columns": null,
            "grid_auto_flow": null,
            "grid_auto_rows": null,
            "grid_column": null,
            "grid_gap": null,
            "grid_row": null,
            "grid_template_areas": null,
            "grid_template_columns": null,
            "grid_template_rows": null,
            "height": null,
            "justify_content": null,
            "justify_items": null,
            "left": null,
            "margin": null,
            "max_height": null,
            "max_width": null,
            "min_height": null,
            "min_width": null,
            "object_fit": null,
            "object_position": null,
            "order": null,
            "overflow": null,
            "overflow_x": null,
            "overflow_y": null,
            "padding": null,
            "right": null,
            "top": null,
            "visibility": null,
            "width": null
          }
        },
        "990a60a0d2324363ac38d418381f8221": {
          "model_module": "@jupyter-widgets/controls",
          "model_name": "DescriptionStyleModel",
          "model_module_version": "1.5.0",
          "state": {
            "_model_module": "@jupyter-widgets/controls",
            "_model_module_version": "1.5.0",
            "_model_name": "DescriptionStyleModel",
            "_view_count": null,
            "_view_module": "@jupyter-widgets/base",
            "_view_module_version": "1.2.0",
            "_view_name": "StyleView",
            "description_width": ""
          }
        },
        "b848c72906484d38bc6d2c03445b6fc6": {
          "model_module": "@jupyter-widgets/controls",
          "model_name": "HBoxModel",
          "model_module_version": "1.5.0",
          "state": {
            "_dom_classes": [],
            "_model_module": "@jupyter-widgets/controls",
            "_model_module_version": "1.5.0",
            "_model_name": "HBoxModel",
            "_view_count": null,
            "_view_module": "@jupyter-widgets/controls",
            "_view_module_version": "1.5.0",
            "_view_name": "HBoxView",
            "box_style": "",
            "children": [
              "IPY_MODEL_90d5aa15d33343bca1586cd253f834cd",
              "IPY_MODEL_48241c20ae664006a74247a0081d1b97",
              "IPY_MODEL_582054b600d84fed96b3501926287619"
            ],
            "layout": "IPY_MODEL_da65c17e558d465a8cc3e5c1b92f388b"
          }
        },
        "90d5aa15d33343bca1586cd253f834cd": {
          "model_module": "@jupyter-widgets/controls",
          "model_name": "HTMLModel",
          "model_module_version": "1.5.0",
          "state": {
            "_dom_classes": [],
            "_model_module": "@jupyter-widgets/controls",
            "_model_module_version": "1.5.0",
            "_model_name": "HTMLModel",
            "_view_count": null,
            "_view_module": "@jupyter-widgets/controls",
            "_view_module_version": "1.5.0",
            "_view_name": "HTMLView",
            "description": "",
            "description_tooltip": null,
            "layout": "IPY_MODEL_c5846c17b50149f2be6e6957fa27c9f1",
            "placeholder": "​",
            "style": "IPY_MODEL_993574292dbe464386e4907aa5aa2f34",
            "value": "100%"
          }
        },
        "48241c20ae664006a74247a0081d1b97": {
          "model_module": "@jupyter-widgets/controls",
          "model_name": "FloatProgressModel",
          "model_module_version": "1.5.0",
          "state": {
            "_dom_classes": [],
            "_model_module": "@jupyter-widgets/controls",
            "_model_module_version": "1.5.0",
            "_model_name": "FloatProgressModel",
            "_view_count": null,
            "_view_module": "@jupyter-widgets/controls",
            "_view_module_version": "1.5.0",
            "_view_name": "ProgressView",
            "bar_style": "success",
            "description": "",
            "description_tooltip": null,
            "layout": "IPY_MODEL_41853f44193f4c73bc465f1908bf4489",
            "max": 103,
            "min": 0,
            "orientation": "horizontal",
            "style": "IPY_MODEL_21e360ef9d5344558342427eb1bc9ea2",
            "value": 103
          }
        },
        "582054b600d84fed96b3501926287619": {
          "model_module": "@jupyter-widgets/controls",
          "model_name": "HTMLModel",
          "model_module_version": "1.5.0",
          "state": {
            "_dom_classes": [],
            "_model_module": "@jupyter-widgets/controls",
            "_model_module_version": "1.5.0",
            "_model_name": "HTMLModel",
            "_view_count": null,
            "_view_module": "@jupyter-widgets/controls",
            "_view_module_version": "1.5.0",
            "_view_name": "HTMLView",
            "description": "",
            "description_tooltip": null,
            "layout": "IPY_MODEL_e9ccb92305dc456da873423651baae10",
            "placeholder": "​",
            "style": "IPY_MODEL_faeab204d9fb4018b1ce3547025fbac5",
            "value": " 103/103 [02:40&lt;00:00,  1.55s/it]"
          }
        },
        "da65c17e558d465a8cc3e5c1b92f388b": {
          "model_module": "@jupyter-widgets/base",
          "model_name": "LayoutModel",
          "model_module_version": "1.2.0",
          "state": {
            "_model_module": "@jupyter-widgets/base",
            "_model_module_version": "1.2.0",
            "_model_name": "LayoutModel",
            "_view_count": null,
            "_view_module": "@jupyter-widgets/base",
            "_view_module_version": "1.2.0",
            "_view_name": "LayoutView",
            "align_content": null,
            "align_items": null,
            "align_self": null,
            "border": null,
            "bottom": null,
            "display": null,
            "flex": null,
            "flex_flow": null,
            "grid_area": null,
            "grid_auto_columns": null,
            "grid_auto_flow": null,
            "grid_auto_rows": null,
            "grid_column": null,
            "grid_gap": null,
            "grid_row": null,
            "grid_template_areas": null,
            "grid_template_columns": null,
            "grid_template_rows": null,
            "height": null,
            "justify_content": null,
            "justify_items": null,
            "left": null,
            "margin": null,
            "max_height": null,
            "max_width": null,
            "min_height": null,
            "min_width": null,
            "object_fit": null,
            "object_position": null,
            "order": null,
            "overflow": null,
            "overflow_x": null,
            "overflow_y": null,
            "padding": null,
            "right": null,
            "top": null,
            "visibility": null,
            "width": null
          }
        },
        "c5846c17b50149f2be6e6957fa27c9f1": {
          "model_module": "@jupyter-widgets/base",
          "model_name": "LayoutModel",
          "model_module_version": "1.2.0",
          "state": {
            "_model_module": "@jupyter-widgets/base",
            "_model_module_version": "1.2.0",
            "_model_name": "LayoutModel",
            "_view_count": null,
            "_view_module": "@jupyter-widgets/base",
            "_view_module_version": "1.2.0",
            "_view_name": "LayoutView",
            "align_content": null,
            "align_items": null,
            "align_self": null,
            "border": null,
            "bottom": null,
            "display": null,
            "flex": null,
            "flex_flow": null,
            "grid_area": null,
            "grid_auto_columns": null,
            "grid_auto_flow": null,
            "grid_auto_rows": null,
            "grid_column": null,
            "grid_gap": null,
            "grid_row": null,
            "grid_template_areas": null,
            "grid_template_columns": null,
            "grid_template_rows": null,
            "height": null,
            "justify_content": null,
            "justify_items": null,
            "left": null,
            "margin": null,
            "max_height": null,
            "max_width": null,
            "min_height": null,
            "min_width": null,
            "object_fit": null,
            "object_position": null,
            "order": null,
            "overflow": null,
            "overflow_x": null,
            "overflow_y": null,
            "padding": null,
            "right": null,
            "top": null,
            "visibility": null,
            "width": null
          }
        },
        "993574292dbe464386e4907aa5aa2f34": {
          "model_module": "@jupyter-widgets/controls",
          "model_name": "DescriptionStyleModel",
          "model_module_version": "1.5.0",
          "state": {
            "_model_module": "@jupyter-widgets/controls",
            "_model_module_version": "1.5.0",
            "_model_name": "DescriptionStyleModel",
            "_view_count": null,
            "_view_module": "@jupyter-widgets/base",
            "_view_module_version": "1.2.0",
            "_view_name": "StyleView",
            "description_width": ""
          }
        },
        "41853f44193f4c73bc465f1908bf4489": {
          "model_module": "@jupyter-widgets/base",
          "model_name": "LayoutModel",
          "model_module_version": "1.2.0",
          "state": {
            "_model_module": "@jupyter-widgets/base",
            "_model_module_version": "1.2.0",
            "_model_name": "LayoutModel",
            "_view_count": null,
            "_view_module": "@jupyter-widgets/base",
            "_view_module_version": "1.2.0",
            "_view_name": "LayoutView",
            "align_content": null,
            "align_items": null,
            "align_self": null,
            "border": null,
            "bottom": null,
            "display": null,
            "flex": null,
            "flex_flow": null,
            "grid_area": null,
            "grid_auto_columns": null,
            "grid_auto_flow": null,
            "grid_auto_rows": null,
            "grid_column": null,
            "grid_gap": null,
            "grid_row": null,
            "grid_template_areas": null,
            "grid_template_columns": null,
            "grid_template_rows": null,
            "height": null,
            "justify_content": null,
            "justify_items": null,
            "left": null,
            "margin": null,
            "max_height": null,
            "max_width": null,
            "min_height": null,
            "min_width": null,
            "object_fit": null,
            "object_position": null,
            "order": null,
            "overflow": null,
            "overflow_x": null,
            "overflow_y": null,
            "padding": null,
            "right": null,
            "top": null,
            "visibility": null,
            "width": null
          }
        },
        "21e360ef9d5344558342427eb1bc9ea2": {
          "model_module": "@jupyter-widgets/controls",
          "model_name": "ProgressStyleModel",
          "model_module_version": "1.5.0",
          "state": {
            "_model_module": "@jupyter-widgets/controls",
            "_model_module_version": "1.5.0",
            "_model_name": "ProgressStyleModel",
            "_view_count": null,
            "_view_module": "@jupyter-widgets/base",
            "_view_module_version": "1.2.0",
            "_view_name": "StyleView",
            "bar_color": null,
            "description_width": ""
          }
        },
        "e9ccb92305dc456da873423651baae10": {
          "model_module": "@jupyter-widgets/base",
          "model_name": "LayoutModel",
          "model_module_version": "1.2.0",
          "state": {
            "_model_module": "@jupyter-widgets/base",
            "_model_module_version": "1.2.0",
            "_model_name": "LayoutModel",
            "_view_count": null,
            "_view_module": "@jupyter-widgets/base",
            "_view_module_version": "1.2.0",
            "_view_name": "LayoutView",
            "align_content": null,
            "align_items": null,
            "align_self": null,
            "border": null,
            "bottom": null,
            "display": null,
            "flex": null,
            "flex_flow": null,
            "grid_area": null,
            "grid_auto_columns": null,
            "grid_auto_flow": null,
            "grid_auto_rows": null,
            "grid_column": null,
            "grid_gap": null,
            "grid_row": null,
            "grid_template_areas": null,
            "grid_template_columns": null,
            "grid_template_rows": null,
            "height": null,
            "justify_content": null,
            "justify_items": null,
            "left": null,
            "margin": null,
            "max_height": null,
            "max_width": null,
            "min_height": null,
            "min_width": null,
            "object_fit": null,
            "object_position": null,
            "order": null,
            "overflow": null,
            "overflow_x": null,
            "overflow_y": null,
            "padding": null,
            "right": null,
            "top": null,
            "visibility": null,
            "width": null
          }
        },
        "faeab204d9fb4018b1ce3547025fbac5": {
          "model_module": "@jupyter-widgets/controls",
          "model_name": "DescriptionStyleModel",
          "model_module_version": "1.5.0",
          "state": {
            "_model_module": "@jupyter-widgets/controls",
            "_model_module_version": "1.5.0",
            "_model_name": "DescriptionStyleModel",
            "_view_count": null,
            "_view_module": "@jupyter-widgets/base",
            "_view_module_version": "1.2.0",
            "_view_name": "StyleView",
            "description_width": ""
          }
        }
      }
    }
  },
  "cells": [
    {
      "cell_type": "markdown",
      "source": [
        "# Урок 11. Модель Transformer-1\n",
        "## Задание\n",
        "1. Взять предобученную трансформерную архитектуру и решить задачу перевода (для тогоже корпуса что вы выбрали из предыдущего дз)\n",
        "2. Cкачиваем из\n",
        "https://github.com/natasha/corus/blob/master/README.md\n",
        "любой новостной датасет\n",
        "\n",
        "    Реализовать метод поиска ближайших статей\n",
        "    (на вход метода должен приходить запрос (какой-то вопрос) и количество вариантов вывода к примеру топ 5-ть или 3-ри, ваш метод должен возвращать топ-k ближайших статей к этому запросу).\n",
        "    Визуально оценить качество"
      ],
      "metadata": {
        "id": "CA3oPzJx0SY6"
      }
    },
    {
      "cell_type": "code",
      "source": [
        "!pip install transformers\n",
        "import transformers"
      ],
      "metadata": {
        "colab": {
          "base_uri": "https://localhost:8080/"
        },
        "id": "E8ohTYZP31kz",
        "outputId": "c3afca3b-b46e-4a41-bf41-e7a4bb44ff86"
      },
      "execution_count": 1,
      "outputs": [
        {
          "output_type": "stream",
          "name": "stdout",
          "text": [
            "Looking in indexes: https://pypi.org/simple, https://us-python.pkg.dev/colab-wheels/public/simple/\n",
            "Requirement already satisfied: transformers in /usr/local/lib/python3.7/dist-packages (4.22.1)\n",
            "Requirement already satisfied: requests in /usr/local/lib/python3.7/dist-packages (from transformers) (2.23.0)\n",
            "Requirement already satisfied: pyyaml>=5.1 in /usr/local/lib/python3.7/dist-packages (from transformers) (6.0)\n",
            "Requirement already satisfied: huggingface-hub<1.0,>=0.9.0 in /usr/local/lib/python3.7/dist-packages (from transformers) (0.9.1)\n",
            "Requirement already satisfied: tokenizers!=0.11.3,<0.13,>=0.11.1 in /usr/local/lib/python3.7/dist-packages (from transformers) (0.12.1)\n",
            "Requirement already satisfied: numpy>=1.17 in /usr/local/lib/python3.7/dist-packages (from transformers) (1.21.6)\n",
            "Requirement already satisfied: importlib-metadata in /usr/local/lib/python3.7/dist-packages (from transformers) (4.12.0)\n",
            "Requirement already satisfied: tqdm>=4.27 in /usr/local/lib/python3.7/dist-packages (from transformers) (4.64.1)\n",
            "Requirement already satisfied: packaging>=20.0 in /usr/local/lib/python3.7/dist-packages (from transformers) (21.3)\n",
            "Requirement already satisfied: regex!=2019.12.17 in /usr/local/lib/python3.7/dist-packages (from transformers) (2022.6.2)\n",
            "Requirement already satisfied: filelock in /usr/local/lib/python3.7/dist-packages (from transformers) (3.8.0)\n",
            "Requirement already satisfied: typing-extensions>=3.7.4.3 in /usr/local/lib/python3.7/dist-packages (from huggingface-hub<1.0,>=0.9.0->transformers) (4.1.1)\n",
            "Requirement already satisfied: pyparsing!=3.0.5,>=2.0.2 in /usr/local/lib/python3.7/dist-packages (from packaging>=20.0->transformers) (3.0.9)\n",
            "Requirement already satisfied: zipp>=0.5 in /usr/local/lib/python3.7/dist-packages (from importlib-metadata->transformers) (3.8.1)\n",
            "Requirement already satisfied: urllib3!=1.25.0,!=1.25.1,<1.26,>=1.21.1 in /usr/local/lib/python3.7/dist-packages (from requests->transformers) (1.24.3)\n",
            "Requirement already satisfied: certifi>=2017.4.17 in /usr/local/lib/python3.7/dist-packages (from requests->transformers) (2022.6.15)\n",
            "Requirement already satisfied: chardet<4,>=3.0.2 in /usr/local/lib/python3.7/dist-packages (from requests->transformers) (3.0.4)\n",
            "Requirement already satisfied: idna<3,>=2.5 in /usr/local/lib/python3.7/dist-packages (from requests->transformers) (2.10)\n"
          ]
        }
      ]
    },
    {
      "cell_type": "code",
      "source": [
        "! pip install sentencepiece"
      ],
      "metadata": {
        "colab": {
          "base_uri": "https://localhost:8080/"
        },
        "id": "5RBetMgWoGSo",
        "outputId": "e51b1a29-ffa7-4969-c613-ed6eba2fcd2b"
      },
      "execution_count": 2,
      "outputs": [
        {
          "output_type": "stream",
          "name": "stdout",
          "text": [
            "Looking in indexes: https://pypi.org/simple, https://us-python.pkg.dev/colab-wheels/public/simple/\n",
            "Requirement already satisfied: sentencepiece in /usr/local/lib/python3.7/dist-packages (0.1.97)\n"
          ]
        }
      ]
    },
    {
      "cell_type": "code",
      "source": [
        "! pip install sacremoses"
      ],
      "metadata": {
        "colab": {
          "base_uri": "https://localhost:8080/"
        },
        "id": "q-uV8zIuefse",
        "outputId": "3b96b9a6-a0da-4b9b-b5ce-b1ae84a1f987"
      },
      "execution_count": 3,
      "outputs": [
        {
          "output_type": "stream",
          "name": "stdout",
          "text": [
            "Looking in indexes: https://pypi.org/simple, https://us-python.pkg.dev/colab-wheels/public/simple/\n",
            "Requirement already satisfied: sacremoses in /usr/local/lib/python3.7/dist-packages (0.0.53)\n",
            "Requirement already satisfied: six in /usr/local/lib/python3.7/dist-packages (from sacremoses) (1.15.0)\n",
            "Requirement already satisfied: click in /usr/local/lib/python3.7/dist-packages (from sacremoses) (7.1.2)\n",
            "Requirement already satisfied: joblib in /usr/local/lib/python3.7/dist-packages (from sacremoses) (1.1.0)\n",
            "Requirement already satisfied: tqdm in /usr/local/lib/python3.7/dist-packages (from sacremoses) (4.64.1)\n",
            "Requirement already satisfied: regex in /usr/local/lib/python3.7/dist-packages (from sacremoses) (2022.6.2)\n"
          ]
        }
      ]
    },
    {
      "cell_type": "markdown",
      "source": [
        "Корпус предложений из предыдущего дз:"
      ],
      "metadata": {
        "id": "XDYKBzQj1avr"
      }
    },
    {
      "cell_type": "code",
      "source": [
        "corp = ['Привет!', 'Как дела?', 'Как тебя зовут?', 'Что ты делаешь завтра?', 'Я собираюсь играть в футбол',\n",
        "        'Если я смогу, я приду играть', 'Когда мы играли в футбол, шел дождь', 'В последнее время я поздно ложусь спать',\n",
        "        'Проезжая мимо станции, у меня слетела шляпа', 'Ёж птица гордая, пока не пнешь - не полетит']"
      ],
      "metadata": {
        "id": "3TBsf9-M0rY2"
      },
      "execution_count": 4,
      "outputs": []
    },
    {
      "cell_type": "markdown",
      "source": [
        "Возьмем первую модель для перевода с русского на английский на https://huggingface.co/: Helsinki-NLP/opus-mt-ru-en"
      ],
      "metadata": {
        "id": "OO2zyc692jRN"
      }
    },
    {
      "cell_type": "code",
      "source": [
        "from transformers import AutoTokenizer, AutoModelForSeq2SeqLM\n",
        "\n",
        "model = AutoModelForSeq2SeqLM.from_pretrained(\"Helsinki-NLP/opus-mt-ru-en\")\n",
        "tokenizer = AutoTokenizer.from_pretrained(\"Helsinki-NLP/opus-mt-ru-en\")"
      ],
      "metadata": {
        "id": "EdG_38g02MDC"
      },
      "execution_count": 5,
      "outputs": []
    },
    {
      "cell_type": "code",
      "source": [
        "def remove_char_trans(result):\n",
        "    remove_result_trans = result[6 : -1]\n",
        "    return remove_result_trans"
      ],
      "metadata": {
        "id": "uEmcxir64F64"
      },
      "execution_count": 6,
      "outputs": []
    },
    {
      "cell_type": "code",
      "source": [
        "import pandas as pd"
      ],
      "metadata": {
        "id": "psyYO0QufMeG"
      },
      "execution_count": 7,
      "outputs": []
    },
    {
      "cell_type": "code",
      "source": [
        "final_result = []\n",
        "\n",
        "def translate(sentence):\n",
        "\n",
        "  inputs = tokenizer.encode(sentence, return_tensors=\"pt\")\n",
        "  outputs = model.generate(inputs, max_length=40, num_beams=4, early_stopping=True)\n",
        "\n",
        "  result = tokenizer.decode(outputs[0])\n",
        "  res = (remove_char_trans(result))\n",
        "  \n",
        "  final_result.append([sentence, res])\n",
        "  df = pd.DataFrame(final_result, columns=['текст', ' трансформер'])\n",
        "\n",
        "  return df"
      ],
      "metadata": {
        "id": "kJ7pxVP84JCK"
      },
      "execution_count": 8,
      "outputs": []
    },
    {
      "cell_type": "code",
      "source": [
        "translate('Привет!')\n",
        "translate('Как дела?')\n",
        "translate('Как тебя зовут?')\n",
        "translate('Что ты делаешь завтра?')\n",
        "translate('Я собираюсь играть в футбол')\n",
        "translate('Если я смогу, я приду играть')\n",
        "translate('Когда мы играли в футбол, шел дождь')\n",
        "translate('В последнее время я поздно ложусь спать')\n",
        "translate('Проезжая мимо станции, у меня слетела шляпа')\n",
        "translate('Еж  птица гордая, пока не пнешь - не полетит')"
      ],
      "metadata": {
        "colab": {
          "base_uri": "https://localhost:8080/",
          "height": 363
        },
        "id": "ILeJXbLgfE0i",
        "outputId": "88d8190b-f375-4775-bf38-1800cc26ea47"
      },
      "execution_count": 9,
      "outputs": [
        {
          "output_type": "execute_result",
          "data": {
            "text/plain": [
              "                                          текст  \\\n",
              "0                                       Привет!   \n",
              "1                                     Как дела?   \n",
              "2                               Как тебя зовут?   \n",
              "3                        Что ты делаешь завтра?   \n",
              "4                   Я собираюсь играть в футбол   \n",
              "5                  Если я смогу, я приду играть   \n",
              "6           Когда мы играли в футбол, шел дождь   \n",
              "7       В последнее время я поздно ложусь спать   \n",
              "8   Проезжая мимо станции, у меня слетела шляпа   \n",
              "9  Еж  птица гордая, пока не пнешь - не полетит   \n",
              "\n",
              "                                      трансформер  \n",
              "0                                             Hey  \n",
              "1                                  How's it going  \n",
              "2                                What's your name  \n",
              "3                     What are you doing tomorrow  \n",
              "4                         I'm gonna play football  \n",
              "5                        If I can, I'll come play  \n",
              "6              When we played football, it rained  \n",
              "7                   I've been going to bed lately  \n",
              "8        As I passed the station, my hat fell off  \n",
              "9  The bird is proud until you kick it, it'll fly  "
            ],
            "text/html": [
              "\n",
              "  <div id=\"df-caab8672-19bf-40f6-8cf0-7951075be821\">\n",
              "    <div class=\"colab-df-container\">\n",
              "      <div>\n",
              "<style scoped>\n",
              "    .dataframe tbody tr th:only-of-type {\n",
              "        vertical-align: middle;\n",
              "    }\n",
              "\n",
              "    .dataframe tbody tr th {\n",
              "        vertical-align: top;\n",
              "    }\n",
              "\n",
              "    .dataframe thead th {\n",
              "        text-align: right;\n",
              "    }\n",
              "</style>\n",
              "<table border=\"1\" class=\"dataframe\">\n",
              "  <thead>\n",
              "    <tr style=\"text-align: right;\">\n",
              "      <th></th>\n",
              "      <th>текст</th>\n",
              "      <th>трансформер</th>\n",
              "    </tr>\n",
              "  </thead>\n",
              "  <tbody>\n",
              "    <tr>\n",
              "      <th>0</th>\n",
              "      <td>Привет!</td>\n",
              "      <td>Hey</td>\n",
              "    </tr>\n",
              "    <tr>\n",
              "      <th>1</th>\n",
              "      <td>Как дела?</td>\n",
              "      <td>How's it going</td>\n",
              "    </tr>\n",
              "    <tr>\n",
              "      <th>2</th>\n",
              "      <td>Как тебя зовут?</td>\n",
              "      <td>What's your name</td>\n",
              "    </tr>\n",
              "    <tr>\n",
              "      <th>3</th>\n",
              "      <td>Что ты делаешь завтра?</td>\n",
              "      <td>What are you doing tomorrow</td>\n",
              "    </tr>\n",
              "    <tr>\n",
              "      <th>4</th>\n",
              "      <td>Я собираюсь играть в футбол</td>\n",
              "      <td>I'm gonna play football</td>\n",
              "    </tr>\n",
              "    <tr>\n",
              "      <th>5</th>\n",
              "      <td>Если я смогу, я приду играть</td>\n",
              "      <td>If I can, I'll come play</td>\n",
              "    </tr>\n",
              "    <tr>\n",
              "      <th>6</th>\n",
              "      <td>Когда мы играли в футбол, шел дождь</td>\n",
              "      <td>When we played football, it rained</td>\n",
              "    </tr>\n",
              "    <tr>\n",
              "      <th>7</th>\n",
              "      <td>В последнее время я поздно ложусь спать</td>\n",
              "      <td>I've been going to bed lately</td>\n",
              "    </tr>\n",
              "    <tr>\n",
              "      <th>8</th>\n",
              "      <td>Проезжая мимо станции, у меня слетела шляпа</td>\n",
              "      <td>As I passed the station, my hat fell off</td>\n",
              "    </tr>\n",
              "    <tr>\n",
              "      <th>9</th>\n",
              "      <td>Еж  птица гордая, пока не пнешь - не полетит</td>\n",
              "      <td>The bird is proud until you kick it, it'll fly</td>\n",
              "    </tr>\n",
              "  </tbody>\n",
              "</table>\n",
              "</div>\n",
              "      <button class=\"colab-df-convert\" onclick=\"convertToInteractive('df-caab8672-19bf-40f6-8cf0-7951075be821')\"\n",
              "              title=\"Convert this dataframe to an interactive table.\"\n",
              "              style=\"display:none;\">\n",
              "        \n",
              "  <svg xmlns=\"http://www.w3.org/2000/svg\" height=\"24px\"viewBox=\"0 0 24 24\"\n",
              "       width=\"24px\">\n",
              "    <path d=\"M0 0h24v24H0V0z\" fill=\"none\"/>\n",
              "    <path d=\"M18.56 5.44l.94 2.06.94-2.06 2.06-.94-2.06-.94-.94-2.06-.94 2.06-2.06.94zm-11 1L8.5 8.5l.94-2.06 2.06-.94-2.06-.94L8.5 2.5l-.94 2.06-2.06.94zm10 10l.94 2.06.94-2.06 2.06-.94-2.06-.94-.94-2.06-.94 2.06-2.06.94z\"/><path d=\"M17.41 7.96l-1.37-1.37c-.4-.4-.92-.59-1.43-.59-.52 0-1.04.2-1.43.59L10.3 9.45l-7.72 7.72c-.78.78-.78 2.05 0 2.83L4 21.41c.39.39.9.59 1.41.59.51 0 1.02-.2 1.41-.59l7.78-7.78 2.81-2.81c.8-.78.8-2.07 0-2.86zM5.41 20L4 18.59l7.72-7.72 1.47 1.35L5.41 20z\"/>\n",
              "  </svg>\n",
              "      </button>\n",
              "      \n",
              "  <style>\n",
              "    .colab-df-container {\n",
              "      display:flex;\n",
              "      flex-wrap:wrap;\n",
              "      gap: 12px;\n",
              "    }\n",
              "\n",
              "    .colab-df-convert {\n",
              "      background-color: #E8F0FE;\n",
              "      border: none;\n",
              "      border-radius: 50%;\n",
              "      cursor: pointer;\n",
              "      display: none;\n",
              "      fill: #1967D2;\n",
              "      height: 32px;\n",
              "      padding: 0 0 0 0;\n",
              "      width: 32px;\n",
              "    }\n",
              "\n",
              "    .colab-df-convert:hover {\n",
              "      background-color: #E2EBFA;\n",
              "      box-shadow: 0px 1px 2px rgba(60, 64, 67, 0.3), 0px 1px 3px 1px rgba(60, 64, 67, 0.15);\n",
              "      fill: #174EA6;\n",
              "    }\n",
              "\n",
              "    [theme=dark] .colab-df-convert {\n",
              "      background-color: #3B4455;\n",
              "      fill: #D2E3FC;\n",
              "    }\n",
              "\n",
              "    [theme=dark] .colab-df-convert:hover {\n",
              "      background-color: #434B5C;\n",
              "      box-shadow: 0px 1px 3px 1px rgba(0, 0, 0, 0.15);\n",
              "      filter: drop-shadow(0px 1px 2px rgba(0, 0, 0, 0.3));\n",
              "      fill: #FFFFFF;\n",
              "    }\n",
              "  </style>\n",
              "\n",
              "      <script>\n",
              "        const buttonEl =\n",
              "          document.querySelector('#df-caab8672-19bf-40f6-8cf0-7951075be821 button.colab-df-convert');\n",
              "        buttonEl.style.display =\n",
              "          google.colab.kernel.accessAllowed ? 'block' : 'none';\n",
              "\n",
              "        async function convertToInteractive(key) {\n",
              "          const element = document.querySelector('#df-caab8672-19bf-40f6-8cf0-7951075be821');\n",
              "          const dataTable =\n",
              "            await google.colab.kernel.invokeFunction('convertToInteractive',\n",
              "                                                     [key], {});\n",
              "          if (!dataTable) return;\n",
              "\n",
              "          const docLinkHtml = 'Like what you see? Visit the ' +\n",
              "            '<a target=\"_blank\" href=https://colab.research.google.com/notebooks/data_table.ipynb>data table notebook</a>'\n",
              "            + ' to learn more about interactive tables.';\n",
              "          element.innerHTML = '';\n",
              "          dataTable['output_type'] = 'display_data';\n",
              "          await google.colab.output.renderOutput(dataTable, element);\n",
              "          const docLink = document.createElement('div');\n",
              "          docLink.innerHTML = docLinkHtml;\n",
              "          element.appendChild(docLink);\n",
              "        }\n",
              "      </script>\n",
              "    </div>\n",
              "  </div>\n",
              "  "
            ]
          },
          "metadata": {},
          "execution_count": 9
        }
      ]
    },
    {
      "cell_type": "markdown",
      "source": [
        "По переводу видно, что переводчик не понял только слово ёж. Все остальное переводит очень хорошо."
      ],
      "metadata": {
        "id": "Zz3_HCLwgxid"
      }
    },
    {
      "cell_type": "markdown",
      "source": [
        "## Задание 2"
      ],
      "metadata": {
        "id": "NeG7z8agTwPp"
      }
    },
    {
      "cell_type": "code",
      "source": [
        "!wget https://www.dropbox.com/s/cmpfvzxdknkeal4/gazeta_jsonl.tar.gz"
      ],
      "metadata": {
        "colab": {
          "base_uri": "https://localhost:8080/"
        },
        "id": "VRAEZRZtfH9B",
        "outputId": "0e6f2ec3-e006-4039-ae7e-c642fbc4cddb"
      },
      "execution_count": 10,
      "outputs": [
        {
          "output_type": "stream",
          "name": "stdout",
          "text": [
            "--2022-09-19 23:22:34--  https://www.dropbox.com/s/cmpfvzxdknkeal4/gazeta_jsonl.tar.gz\n",
            "Resolving www.dropbox.com (www.dropbox.com)... 162.125.67.18, 2620:100:6031:18::a27d:5112\n",
            "Connecting to www.dropbox.com (www.dropbox.com)|162.125.67.18|:443... connected.\n",
            "HTTP request sent, awaiting response... 302 Found\n",
            "Location: /s/raw/cmpfvzxdknkeal4/gazeta_jsonl.tar.gz [following]\n",
            "--2022-09-19 23:22:35--  https://www.dropbox.com/s/raw/cmpfvzxdknkeal4/gazeta_jsonl.tar.gz\n",
            "Reusing existing connection to www.dropbox.com:443.\n",
            "HTTP request sent, awaiting response... 302 Found\n",
            "Location: https://ucfdb8c0979bc70fd8b79949658a.dl.dropboxusercontent.com/cd/0/inline/BtTnD2VYZIM5MgEdhVBwpCuwagt90hBkE3FlMM00ggBub-KNPaM6aT_8_IQ-tUNj2fBejvqX1eyPIwQHhnzu4QDclDi2EBNWBPGzRT-NR20i7uknHy5X10Q_EyCasCKC9kJmvJkSkY5yg8OLD3uMuDdc5BZuUdw6mDNgB1AL6iNfqw/file# [following]\n",
            "--2022-09-19 23:22:35--  https://ucfdb8c0979bc70fd8b79949658a.dl.dropboxusercontent.com/cd/0/inline/BtTnD2VYZIM5MgEdhVBwpCuwagt90hBkE3FlMM00ggBub-KNPaM6aT_8_IQ-tUNj2fBejvqX1eyPIwQHhnzu4QDclDi2EBNWBPGzRT-NR20i7uknHy5X10Q_EyCasCKC9kJmvJkSkY5yg8OLD3uMuDdc5BZuUdw6mDNgB1AL6iNfqw/file\n",
            "Resolving ucfdb8c0979bc70fd8b79949658a.dl.dropboxusercontent.com (ucfdb8c0979bc70fd8b79949658a.dl.dropboxusercontent.com)... 162.125.81.15, 2620:100:6031:15::a27d:510f\n",
            "Connecting to ucfdb8c0979bc70fd8b79949658a.dl.dropboxusercontent.com (ucfdb8c0979bc70fd8b79949658a.dl.dropboxusercontent.com)|162.125.81.15|:443... connected.\n",
            "HTTP request sent, awaiting response... 302 Found\n",
            "Location: /cd/0/inline2/BtRPaZvlBd9NAFHgpERa1-y1DqZ7imwKjWcOs6r1znSivnT2MiFbSVAmA1XYdE23toeAS3FMTn4Qb9JCZLjDeMC7s11EGDt6S-CxwQLx2w4XJRwD7n5fWUH4MXUnEWdJpPgVUmghdQUXt1hKyIQN9mTEXLQdbWVORUzoeyrJDPvpixa944qGLmnZ3BA7_yKrigjMJ-KviPRGxyhJAdpp_o1MREVcIBDiYIKkJhSMZ2lfghbFkwrmyTaZ2KgF8LdFz_vIgo61yDCoIMxdSFcWqd-7SRE01C-X26QsZtwCilv2wjBCRgyepQDW8pjiarZutZc9DkLRuMWKjgGC1s-eufANZLUu0Mi4fm-rMUwJWEYtoMbHwr6qK1lA0peX70-sSMl_RqVFKOtf__s_HvhSkUT-XU-Sf2ikTorC_DrZ-A127w/file [following]\n",
            "--2022-09-19 23:22:36--  https://ucfdb8c0979bc70fd8b79949658a.dl.dropboxusercontent.com/cd/0/inline2/BtRPaZvlBd9NAFHgpERa1-y1DqZ7imwKjWcOs6r1znSivnT2MiFbSVAmA1XYdE23toeAS3FMTn4Qb9JCZLjDeMC7s11EGDt6S-CxwQLx2w4XJRwD7n5fWUH4MXUnEWdJpPgVUmghdQUXt1hKyIQN9mTEXLQdbWVORUzoeyrJDPvpixa944qGLmnZ3BA7_yKrigjMJ-KviPRGxyhJAdpp_o1MREVcIBDiYIKkJhSMZ2lfghbFkwrmyTaZ2KgF8LdFz_vIgo61yDCoIMxdSFcWqd-7SRE01C-X26QsZtwCilv2wjBCRgyepQDW8pjiarZutZc9DkLRuMWKjgGC1s-eufANZLUu0Mi4fm-rMUwJWEYtoMbHwr6qK1lA0peX70-sSMl_RqVFKOtf__s_HvhSkUT-XU-Sf2ikTorC_DrZ-A127w/file\n",
            "Reusing existing connection to ucfdb8c0979bc70fd8b79949658a.dl.dropboxusercontent.com:443.\n",
            "HTTP request sent, awaiting response... 200 OK\n",
            "Length: 158907783 (152M) [application/octet-stream]\n",
            "Saving to: ‘gazeta_jsonl.tar.gz.2’\n",
            "\n",
            "gazeta_jsonl.tar.gz 100%[===================>] 151.55M  17.5MB/s    in 9.0s    \n",
            "\n",
            "2022-09-19 23:22:46 (16.8 MB/s) - ‘gazeta_jsonl.tar.gz.2’ saved [158907783/158907783]\n",
            "\n"
          ]
        }
      ]
    },
    {
      "cell_type": "code",
      "source": [
        "!sudo tar -xvf gazeta_jsonl.tar.gz"
      ],
      "metadata": {
        "colab": {
          "base_uri": "https://localhost:8080/"
        },
        "id": "qVg1RBSaT0hs",
        "outputId": "de54c6d8-d6a4-4bd2-fc11-cc5f08596157"
      },
      "execution_count": 11,
      "outputs": [
        {
          "output_type": "stream",
          "name": "stdout",
          "text": [
            "gazeta_train.jsonl\n",
            "gazeta_test.jsonl\n",
            "gazeta_val.jsonl\n"
          ]
        }
      ]
    },
    {
      "cell_type": "code",
      "source": [
        "!head -5 gazeta_train.jsonl"
      ],
      "metadata": {
        "colab": {
          "base_uri": "https://localhost:8080/"
        },
        "id": "cm-C02ZPU13O",
        "outputId": "310ced18-cdc1-4b29-a9b5-961e7a3b23f7"
      },
      "execution_count": 12,
      "outputs": [
        {
          "output_type": "stream",
          "name": "stdout",
          "text": [
            "{\"url\": \"https://www.gazeta.ru/financial/2011/11/30/3852658.shtml\", \"text\": \"«По итогам 2011 года чистый отток может составить примерно $80 млрд, в следующем году — около $20 млрд. При этом мы ожидаем, что со второго полугодия 2012 года начнется приток капитала», — заявил «Интерфаксу» замминистра экономического развития Андрей Клепач. Официальные прогнозы по выводу капитала из России становятся все пессимистичными: еще летом власти полагали, что из страны уйдет не более $35 млрд, в сентябре Минэкономразвития назвал цифру $50 млрд, в начале ноября Центробанк пересмотрел оценку до $70 млрд. Очередное изменение прогноза было ожидаемо: по расчетам Центробанка , за январь — октябрь чистый отток капитала достиг $64 млрд, причем в последние месяцы он ускорился: в сентябре он составил $14 млрд, в октябре — $13 млрд против среднего ежемесячного оттока в $6—8 млрд в первом полугодии. «После октябрьских данных Минэкономразвития вынуждено было изменить оценку, настаивать на $70 млрд означало ожидать серьезного замедления оттока капитала на непонятно каких причинах», — говорит главный экономист BNP Paribas Юлия Цепляева. «В последние два месяца отток капитала ускорится, на декабрь приходится значительная часть выплат по внешним долгам, что приводит к усилению оттока, особенно если они не рефинансируются новыми кредитами», — соглашается главный экономист ФК «Открытие» Владимир Тихомиров. Прогнозируемый Минэкономразвития отток капитала — один из самых высоких за последние 20 лет. Больше ушло лишь в 2008 году на фоне разрастания финансового кризиса и российско-грузинской войны — $133,7 млрд. В кризисный 2009 год из России утекло $56,1 млрд. Главный фактор ускорения оттока капитала в 2011 году — нестабильность на внешних финансовых рынках и рост опасений относительно второй волны рецессии. «Это реакция на неуверенность, которую генерирует Европа с долговыми проблемами. В случае новой волны глобальной турбулентности Россия — одна из самых уязвимых стран», — говорит Цепляева. Еще одна причина — ослабление рубля. «Привлекательность вложений снижается на фоне того, что рубль перестал укрепляться, а ставки по депозитам достаточно низкие. В результате экспортеры не полностью возвращают экспортную выручку», — говорит Тихомиров. Внутри страны эксперты не видят особых причин для бегства капитала. «Ситуация выглядит достаточно позитивно, очень хорошие макроэкономические результаты за год, особенно на фоне других стран. С политической точки зрения все достаточно понятно и предсказуемо, итог выборов очевиден», — говорит экономист ИК «Тройка Диалог» Антон Струченевский. Тем не менее политический фактор играет роль. «Бизнесу важно не только, кто будет президентом, он ждет ясности с перестановками в правительстве. В наших условиях административный ресурс важнее всего для успешности бизнеса», — говорит Цепляева, добавляя, что отток капитала продолжится до завершения президентских выборов.\", \"title\": \"Прогноз не успевает за оттоком\", \"summary\": \"В 2011 году из России уйдет $80 млрд, считают в Минэкономразвития. Менее месяца назад Центробанк давал оценку $70 млрд, повысив первоначальный прогноз вдвое. Отток капитала из страны усиливается из-за кризиса в Европе, а в декабре российским компаниям выплачивать внешние долги. На движение капитала повлияли и выборы: несмотря на их предсказуемость, бизнес хочет ясности с перестановками в правительстве.\", \"date\": \"2011-11-30 18:33:39\"}\n",
            "{\"url\": \"https://www.gazeta.ru/business/2013/01/24/4939629.shtml\", \"text\": \"Российское подразделение интернет-корпорации Google возглавила Юлия Соловьева , экс-директор московского офиса международной консалтинговой компании Alvarez & Marsal. Соловьева приступит к обязанностям генерального директора 31 января, сообщили в пресс-службе Google. В новой должности она будет отвечать за стратегическое развитие компании в России, «на одном из крупнейших европейских интернет-рынков». В пресс-службе Google не смогли оперативно предоставить дополнительные комментарии. О назначении Соловьевой было объявлено спустя полгода после того, как пост генерального директора Google Russia покинул Владимир Долгов , возглавив представительство интернет-аукциона eBay в Москве. Поиск нового менеджера Google вел американский офис корпорации. Ранее источники «Газеты.Ru» говорили о том, что в качестве руководителя российского подразделения рассматривался внутренний иностранный кандидат, а также представители Apple , Hewlett-Packard, Microsoft , «Сколково». Соловьева окончила факультет иностранных языков Московского государственного лингвистического университета, имеет американские дипломы Монтерейского института международных исследований (Monterey Institute of International Studies) и магистра делового администрирования Гарвардской бизнес-школы. До прихода в Alvarez & Marsal Соловьева в течение пяти лет работала в российском медиахолдинге «Профмедиа». Там она занимала посты исполнительного вице-президента, а затем президента и отвечала за создание и внедрение портфельной стратегии холдинга, управление активами, корпоративное управление и финансовые результаты компании. В 2003–2006 годах Соловьева была директором по корпоративному развитию в «Мобильных телесистемах» (МТС), а до этого работала в голландском офисе консалтинговой компании Booz Allen Hamilton, российском операторе спутникового телевидения НТВ+, американской косметической компании Mary Kay и поставщике интернет-услуг в России Golden Telecom. По словам источника на интернет-рынке, при Долгове стратегия Google стала смещаться от технологической к ориентированный на массового потребителя. Профессиональные качества Соловьевой отвечают новой политике компании, считает он: «С этой точки зрения сил и знаний ей хватит. А опыт работы в международных компаниях позволит найти общий язык с западными акционерами». По словам источника, одной из задач Соловьевой в новой должности должно стать решение проблемы позиционирования компании в госсекторе, так как «поиск общего языка с регулятором должен идти от руководителя компании». Но по словам аналитика «Финам» Леонида Делицына, более активных действий от Google можно было бы ожидать, если бы в качестве руководителя был нанят технологический специалист или маркетолог. «Google же выбрал менеджера достаточной категории, для того чтобы поддерживать текущую стратегию компании на этом рынке, которая, на мой взгляд, остается вялой, — говорит он. — А такой политики может придерживаться любой менеджер с опытом работы в крупной компании». LiveInternet оценивает долю Google на российском рынке поиска в 26,3%, у «Яндекса» — 61%. В России Google продолжит наращивать свою долю, но в основном за счет общемировых сервисов и Android-устройств, считает Делицин.\", \"title\": \"Google закончил поиск\", \"summary\": \"Юлия Соловьева, экс-директор холдинга «Профмедиа», возглавила российский офис Google. Поиск американская интернет-корпорация вела полгода. Медиаменеджер с опытом работы в международных компаниях найдет общий язык с акционерами, но прорыва можно было ждать от технического специалиста или маркетолога, говорят аналитики.\", \"date\": \"2013-01-24 18:20:09\"}\n",
            "{\"url\": \"https://www.gazeta.ru/social/2018/02/06/11639377.shtml\", \"text\": \"Басманный районный суд Москвы вечером 6 февраля арестовал по обвинению в мошенничестве четверых бывших чиновников правительства Дагестана — врио премьер-министра Дагестана Абдусамада Гамидова, его заместителей Шамиль Исаева и Раюдина Юсуфова, а также министра образования Шахабаса Шахова, передает RT. Фигуранты пробудут под стражей до 5 апреля. Защита фигурантов просила поместить подсудимых под домашний арест или отпустить под залог. Представители же следствия настаивали на помещении фигурантов коррупционного дела под стражу, утверждая, что те смогут использовать свое служебное положение, чтобы уничтожить улики или надавить на свидетелей. В конце января нынешнего года стало известно, что в Дагестан для проверки приехала специальная комиссия из Москвы. За время ее работы по уголовным делам были задержаны мэр Махачкалы Муса Мусаев , главный архитектор столицы Дагестана Магомед-Расул Гитинов , обыски прошли также в администрации Табасаранского района республики, сообщает РИА «Новости». По данным следствия, в феврале 2015 года Гитинов, выходя за пределы своих полномочий, составил градостроительный план земельного участка площадью 600 кв. м, на котором должны были построить 12-этажный дом. В зону застройки частично попал земельный участок, принадлежащий жителю Махачкалы. В феврале 2017 года по его иску было принято решение о сносе фундамента дома, чем был причинен ущерб администрации города на 4 млн руб. Однако этим дело не ограничилось — утром в понедельник 5 февраля дома у Абдусамада Гамидова провели обыски сотрудники ФСБ и Следственного комитета России. У главы правительства были изъяты золотой пистолет ТТ, пистолеты Beretta, пистолет ПМ и два автомата Калашникова, сообщила официальный представитель Следственного комитета России Светлана Петренко. Также обыски прошли у двух его заместителей и экс-министра образования. Все чиновники были задержаны. Следователи выделили в деле несколько эпизодов. Один из них связан с приобретением здания для детского сада в селе Халимбекаул. Бывший ресторан «Шуринка» вместе с реконструкцией стоил 12 миллионов рублей, однако Гамидов и Шахов приобрели его за 31,8 миллиона. Другой эпизод касается реконструкции здания для временного содержания иностранцев и лиц без гражданства. Эти работы выполняли наемные рабочие за наличные. Гамидов и Юсуфов провели аукцион для заключения контракта с ООО «Гранд-Строй», и в 2013 — 2014 годах компании было перечислено более 41 миллиона рублей. Кроме того, следователи выявили хищение бюджетных средств, выделенных на инженерную инфраструктуру турбазы «Орлиное гнездо», которой с 2011 года фактически владел Исаев. Эти действия причинили бюджету республики ущерб равный примерно 35 миллионам рублей. Комментируя данную ситуацию, пресс-секретарь президента России Владимира Путина Дмитрий Песков заявил, что российскому лидеру докладывают о действиях правоохранительных органов в связи с задержаниями чиновников в Дагестане, передает ФАН. Ранее – 20 января — мэр Махачкалы Муса Мусаев, подозреваемый в превышении должностных полномочий, был задержан и помещен в следственный изолятор после обысков. «Следствием установлено, что в марте 2016 года Мусаев, заведомо зная, что земельный участок площадью около 17,5 тысяч кв. м., расположенный в Махачкале, является собственностью Республики Дагестан, превышая свои должностные полномочия, незаконно подписал постановление о предоставлении ОАО «АСПК» в собственность земельного участка за плату в размере 1 млн 100 тыс. руб.», — говорилось в сообщении следствия. После этого на основании незаконного постановления в Единый реестр прав была внесена запись о государственной регистрации права собственности на этот участок. Согласно заключению специалиста рыночная стоимость участка составляет более 81 млн руб. «Незаконными действиями Мусаева существенно нарушены охраняемые законом интересы государства и причинен значительный материальный ущерб бюджету Дагестана на сумму около 80 млн руб.», — резюмировалось сообщение правоохранительного ведомства. За два дня до этого задержания Счетная палата сообщила, что во время проверки мэрии Махачкалы в части исполнения городского бюджета 2016 — 2017 годов было выявлено нарушений почти на 3 млрд руб., — деньги были использованы нерационально и противозаконно.\", \"title\": \"«Фигуранты дела могут давить на свидетелей»\", \"summary\": \"Суд арестовал на два месяца четверых экс-чиновников правительства Дагестана, включая бывшего врио премьер-министра Дагестана Абдусамада Гамидова. Все они обвиняются в мошенничестве. Защита фигурантов просила поместить подсудимых под домашний арест или отпустить под залог. Представители следствия настаивали на помещении фигурантов коррупционного дела под стражу, утверждая, что те смогут использовать свое служебное положение, чтобы уничтожить улики или надавить на свидетелей.\", \"date\": \"2018-02-06 21:21:14\"}\n",
            "{\"url\": \"https://www.gazeta.ru/business/2013/06/21/5388733.shtml\", \"text\": \"Как повлияло вступление в ВТО на конкурентноспособность российской промышленности, какие угрозы и преимущества несет членство в организации и как России правильно играть по ее правилам, чтобы выграть, обсудили участники «круглого стола» «Вступление России в ВТО и повышение конкурентоспособности российской промышленности» в рамках петербургского форума. 22 августа 2012 года Россия стала полноправным членом ВТО, переговоры о вступлении в которую длились 18 лет. Отношение участников дискуссии к первым итогам членства в ВТО оказалось неоднозначным. Больше всего возражений по отношению к вступлению в ВТО было у главы и основного акционера алюминиевой компании «Русал» Олега Дерипаски. «ВТО — это бассейн с акулами, мы это почувствуем через три-четыре года», — объявил Дерипаска , предрекающий спад производства внутри России и рост безработицы до 12%. По его словам, уже сейчас усилилась конкуренция со стороны Китая, активно субсидирующего свои производства, в том числе алюминиевое. «Не проще ли было нам сначала подготовиться, а потом вступать в ВТО?» — вопрошал глава «Русала» , указывая на вред резкого снятия контроля и отсутствие таможенных барьеров. Мы недостаточно хорошо подготовились к вступлению в ВТО, придется делать это «в открытом режиме», посетовал Дерипаска. Чтобы спасти отечественную промышленность, Дерипаска предложил кардинальным образом менять таможенную, финансовую, антимонопольную и кредитную политику. Основной владелец другой металлургической компании — «Северсталь» — Алексей Мордашов был настроен менее критично. «Говорят, вступление ВТО оказывает негативное влияние. Но посмотрите на статистику: с сентября 2012 года по март 2013 года рост импорта составил 4–5%, лишь по отдельным категориям товаров 8–9%, то есть говорить о всплеске импорта и ущербе для национального производства не приходится», — сказал бизнесмен. Важно помнить, что вступление в ВТО — это еще и забота о потребителях: в России товары стоят дороже, чем за рубежом, из-за торговых и неторговых барьеров, напомнил он. По мнению Мордашова, проблемы связаны с низкой конкурентоспособностью российских товаров, а не с вступлением в ВТО. А для роста конкурентособности в России оказалось много препятствий — это три «к», как охарактеризовал министр по торговле Евразийской экономической комиссии Андрей Слепнев : климат, кредиты, компентенция. «Сложно играть в футбол на мировом уровне в условиях не расчищенного от снега поля», — посетовал Слепнев. Ставки же по кредитам достигают 38% — именно такую ставку, по его словам, недавно предложил знакомому, желавшему взять кредит на три месяца, Россельхозбанк. И, конечно, нужно иметь компетенцию, чтобы играть «и в нападении, и в обороне» в условиях снижения мирового спроса, резюмировал Слепнев. Футбольную аналогию членству в ВТО предложил модератор дискуссии, управляющий партнер Altera Capital Кирилл Андросов. А впервые заговорил о членстве в организации как об игре в футбол еще в январе этого года глава Сбербанка Герман Греф , сравнившей членство России с игрой «дворовой команды» на Олимпийских играх. Наряду с негативными факторами для конкурентоспособности российских товаров — высокими удельными расходами топлива и транспортными затратами (из-за того, что рынки сбыта удалены от мест производства), а также низкой производительностью труда — участники дискуссии нашли и позитивные. В том числе масштаб страны, наличие большого объема ресурсов, неудовлетворенный внутренний спрос и человеческий капитал. Но при всем этом позитиве Россия отстает от тренда, а тот, кто отстает, теряет свою конкурентоспособность. «Большая часть игроков уже на новом этапе — входят в число участников соглашения о свободной торговле, это грозит ситуацией, что «все уже летят на самолете, а мы только сели на поезд», — посетовал Слепнев. «А от вступления в ВТО больше всего выиграли те, кто вступил раньше, как, например, Бразилия, — отметил глава Минэкономразвития Андрей Белоусов. — Те, кто вступают вначале, получают больше, чем те, кто вступают в конце, с последних традиционно «отжимают» больше». Многие возможности, на которые мы рассчитывали, пока не реализованы, отметил он. Зарубежные участники дискуссии, в свою очередь, посоветовали России активнее играть не только в защите, закрывая свой рынок, но и в нападении — защищать свои экспортные интересы. «ВТО — игра с очень хорошими командами. Есть команды сильнее вашей, но надо оттачивать собственную игру. Участие — это не только перебрасывание мяча на своей части поля, — сказал бывший комиссар ЕС по торговле лорд Питер Мандельсон. — Как сказано в докладе Global Counsel LLP , подход России к членству в ВТО носит скорее оборонительный, а не наступательный характер. Многие видят ВТО как угрозу — это нечто, от чего нужно защищать экономику и промышленность». Россия не занимает должное место в ВТО, необходимо обеспечивать ей квалифицированное представительство, уверен еврокомиссар. При этом вкладывать средства нужно «в собственную команду, а не в чисто имиджевые проекты и мероприятия», резюмировал Мандельсон.\", \"title\": \"«С последних традиционно «отжимают» больше»\", \"summary\": \"Мнения предпринимателей по поводу вступления в ВТО разделились. Одни называют организацию «бассейном с акулами», другие утверждают, что проблема не в ВТО, а в низкой конкурентоспособности отечественных товаров. Не нужно защищать рынок от импорта, а нужно более активно играть «в нападении» на экспортные, советуют иностранные эксперты.\", \"date\": \"2013-06-21 17:43:50\"}\n",
            "{\"url\": \"https://www.gazeta.ru/culture/2014/12/27/a_6361441.shtml\", \"text\": \"К третьему сезону «Голос» на Первом канале стал для российских телезрителей чем-то вроде «Иронии судьбы» — финал шоу превратился в обязательное предновогоднее блюдо. В этом году восприятие программы значительно стабилизировалось, фаворитом среди наставников успешно стал Александр Борисович Градский, чьи подопечные — Дина Гарипова и Сергей Волчков — два года подряд становились победителями программы. Другое дело, что «Голос» существует уже достаточно долго, чтобы отчитаться некоторыми результатами в смысле обновления российского поп-ландшафта. Никаких подвижек в этом плане конкурс, будем честны, не породил. Единственным постоянным лицом с афиш стал участник второго сезона Антон Беляев, но его группа Therr Maitz существовала еще до старта российской версии шоу. Антон успешно использовал «Голос» в качестве инструмента продвижения собственного проекта. То же, вполне вероятно, ждет вылетевшего в самом конце Ярослава Дронова и его группу «Час Пик». Что касается остальных участников, то Дина Гарипова (победительница первого сезона), выступив на «Евровидении», пользуется большим успехом в российской провинции, а Сергей Волчков (прошлогодний триумфатор) работает «под Магомаева» в больших московских залах. Наргиз Закирова со своими колоритными кавер-версиями рок-хитов стала фаворитом корпоративных вечеринок. Впрочем, содержанием «Голоса» к нынешнему моменту стали не столько таланты участников, сколько дрожь и слезы наставников. Ну и конечно, остроты ведущего Дмитрия Нагиева , который за год, благодаря сериалу «Физрук», вернул себе статус народного героя, слегка потускневший после закрытия шоу «Осторожно, модерн». Соответственно, появились в «Голосе» вставные аттракционы, например юмористические выходы Ивана Урганта и Даниила Градского (сына Александра Борисовича) в отборочном туре. Первой в ходе отчетного концерта вылетела Мариам Мерабова , подопечная Леонида Агутина. Супруг Анжелики Варум традиционно выбрал себе самую профессиональную команду, но певице, судя по всему, недостало личного обаяния, хотя голос Мариам выше всяких похвал. Вторым выбыл Александр Бон , падаван Димы Билана. Артистичный молодой человек в смысле голоса серьезно проигрывал остальным участникам, при этом дошел до финала, но под конец проиграл, несмотря на крайне выигрышный номер с песней Земфиры «Девочка созрела». Наконец, победительницей вновь стала воспитанница Градского — Александра Воробьева. Во втором финальном туре она спела арию из «Призрака оперы» и блестяще вытянула действительно сложную и очень эффектную партию. Девушку поздравили лично Константин Эрнст , вручивший победительнице ключи от автомобиля, продюсер развлекательных программ Первого канала Юрий Аксюта и директор Universal Music Russia Дмитрий Коннов. Теперь Александру ждет выпуск альбома на упомянутом мейджор-лейбле и тур по России. Напоследок Эрнст сообщил, что в четвертом сезоне состав наставников полностью сменится. Теперь остается только пофантазировать о том, что, быть может, новая команда и за воспитание молодых дарований возьмется креативно. Возможно, они не только подберут участникам удачный репертуар из каверов, но и напишут для них новые песни. Впрочем, это мы узнаем лишь через год.\", \"title\": \"Третий «Голос» за Градского\", \"summary\": \"На Первом канале завершился третий сезон шоу «Голос». Победительницей с небольшим перевесом стала Александра Воробьева, подопечная Александра Градского.\", \"date\": \"2014-12-27 01:10:01\"}\n"
          ]
        }
      ]
    },
    {
      "cell_type": "code",
      "source": [
        "import json\n",
        "\n",
        "data = []\n",
        "with open('gazeta_train.jsonl', 'r') as json_file:\n",
        "    json_list = list(json_file)\n",
        "for json_str in json_list:\n",
        "    data.append(json.loads(json_str))"
      ],
      "metadata": {
        "id": "XJbtiQsDU6Cz"
      },
      "execution_count": 13,
      "outputs": []
    },
    {
      "cell_type": "code",
      "source": [
        "data[0]"
      ],
      "metadata": {
        "colab": {
          "base_uri": "https://localhost:8080/"
        },
        "id": "ZI56inwhU_dv",
        "outputId": "200e7061-97a4-4506-9cd4-9430f6a4cba7"
      },
      "execution_count": 14,
      "outputs": [
        {
          "output_type": "execute_result",
          "data": {
            "text/plain": [
              "{'url': 'https://www.gazeta.ru/financial/2011/11/30/3852658.shtml',\n",
              " 'text': '«По итогам 2011 года чистый отток может составить примерно $80 млрд, в следующем году — около $20 млрд. При этом мы ожидаем, что со второго полугодия 2012 года начнется приток капитала», — заявил «Интерфаксу» замминистра экономического развития Андрей Клепач. Официальные прогнозы по выводу капитала из России становятся все пессимистичными: еще летом власти полагали, что из страны уйдет не более $35 млрд, в сентябре Минэкономразвития назвал цифру $50 млрд, в начале ноября Центробанк пересмотрел оценку до $70 млрд. Очередное изменение прогноза было ожидаемо: по расчетам Центробанка , за январь — октябрь чистый отток капитала достиг $64 млрд, причем в последние месяцы он ускорился: в сентябре он составил $14 млрд, в октябре — $13 млрд против среднего ежемесячного оттока в $6—8 млрд в первом полугодии. «После октябрьских данных Минэкономразвития вынуждено было изменить оценку, настаивать на $70 млрд означало ожидать серьезного замедления оттока капитала на непонятно каких причинах», — говорит главный экономист BNP Paribas Юлия Цепляева. «В последние два месяца отток капитала ускорится, на декабрь приходится значительная часть выплат по внешним долгам, что приводит к усилению оттока, особенно если они не рефинансируются новыми кредитами», — соглашается главный экономист ФК «Открытие» Владимир Тихомиров. Прогнозируемый Минэкономразвития отток капитала — один из самых высоких за последние 20 лет. Больше ушло лишь в 2008 году на фоне разрастания финансового кризиса и российско-грузинской войны — $133,7 млрд. В кризисный 2009 год из России утекло $56,1 млрд. Главный фактор ускорения оттока капитала в 2011 году — нестабильность на внешних финансовых рынках и рост опасений относительно второй волны рецессии. «Это реакция на неуверенность, которую генерирует Европа с долговыми проблемами. В случае новой волны глобальной турбулентности Россия — одна из самых уязвимых стран», — говорит Цепляева. Еще одна причина — ослабление рубля. «Привлекательность вложений снижается на фоне того, что рубль перестал укрепляться, а ставки по депозитам достаточно низкие. В результате экспортеры не полностью возвращают экспортную выручку», — говорит Тихомиров. Внутри страны эксперты не видят особых причин для бегства капитала. «Ситуация выглядит достаточно позитивно, очень хорошие макроэкономические результаты за год, особенно на фоне других стран. С политической точки зрения все достаточно понятно и предсказуемо, итог выборов очевиден», — говорит экономист ИК «Тройка Диалог» Антон Струченевский. Тем не менее политический фактор играет роль. «Бизнесу важно не только, кто будет президентом, он ждет ясности с перестановками в правительстве. В наших условиях административный ресурс важнее всего для успешности бизнеса», — говорит Цепляева, добавляя, что отток капитала продолжится до завершения президентских выборов.',\n",
              " 'title': 'Прогноз не успевает за оттоком',\n",
              " 'summary': 'В 2011 году из России уйдет $80 млрд, считают в Минэкономразвития. Менее месяца назад Центробанк давал оценку $70 млрд, повысив первоначальный прогноз вдвое. Отток капитала из страны усиливается из-за кризиса в Европе, а в декабре российским компаниям выплачивать внешние долги. На движение капитала повлияли и выборы: несмотря на их предсказуемость, бизнес хочет ясности с перестановками в правительстве.',\n",
              " 'date': '2011-11-30 18:33:39'}"
            ]
          },
          "metadata": {},
          "execution_count": 14
        }
      ]
    },
    {
      "cell_type": "code",
      "source": [
        "len(data)"
      ],
      "metadata": {
        "colab": {
          "base_uri": "https://localhost:8080/"
        },
        "id": "uxu6qwqSVDQ1",
        "outputId": "7f188ff5-03aa-49f3-b3fe-bdc515346f1c"
      },
      "execution_count": 15,
      "outputs": [
        {
          "output_type": "execute_result",
          "data": {
            "text/plain": [
              "52400"
            ]
          },
          "metadata": {},
          "execution_count": 15
        }
      ]
    },
    {
      "cell_type": "code",
      "source": [
        "! pip install annoy"
      ],
      "metadata": {
        "colab": {
          "base_uri": "https://localhost:8080/"
        },
        "id": "LLUQ2uh-VIGs",
        "outputId": "45ad54c6-6199-45f7-e1a0-14b93ce3eecf"
      },
      "execution_count": 16,
      "outputs": [
        {
          "output_type": "stream",
          "name": "stdout",
          "text": [
            "Looking in indexes: https://pypi.org/simple, https://us-python.pkg.dev/colab-wheels/public/simple/\n",
            "Requirement already satisfied: annoy in /usr/local/lib/python3.7/dist-packages (1.17.1)\n"
          ]
        }
      ]
    },
    {
      "cell_type": "code",
      "source": [
        "import annoy\n",
        "import numpy as np\n",
        "import pandas as pd\n",
        "from tqdm import tqdm_notebook"
      ],
      "metadata": {
        "id": "Nax8MZd_VLaL"
      },
      "execution_count": 17,
      "outputs": []
    },
    {
      "cell_type": "code",
      "source": [
        "columns = ['date', 'title', 'summary', 'text', 'url']\n",
        "data_df = {col: [] for col in columns}\n",
        "for itm in data:\n",
        "  for col in columns:\n",
        "    data_df[col].append(itm[col])\n",
        "data_df = pd.DataFrame(data_df, columns=columns)\n",
        "\n",
        "data_df"
      ],
      "metadata": {
        "colab": {
          "base_uri": "https://localhost:8080/",
          "height": 641
        },
        "id": "DVOd1sYMVa4P",
        "outputId": "a7f96dda-e010-40d5-d2dd-e91e86f08d11"
      },
      "execution_count": 18,
      "outputs": [
        {
          "output_type": "execute_result",
          "data": {
            "text/plain": [
              "                      date                                              title  \\\n",
              "0      2011-11-30 18:33:39                     Прогноз не успевает за оттоком   \n",
              "1      2013-01-24 18:20:09                              Google закончил поиск   \n",
              "2      2018-02-06 21:21:14        «Фигуранты дела могут давить на свидетелей»   \n",
              "3      2013-06-21 17:43:50        «С последних традиционно «отжимают» больше»   \n",
              "4      2014-12-27 01:10:01                        Третий «Голос» за Градского   \n",
              "...                    ...                                                ...   \n",
              "52395  2010-10-13 14:01:03                     Взятку привезли на «Мерседесе»   \n",
              "52396  2011-01-24 23:30:01                      Аэропорты вызывают на досмотр   \n",
              "52397  2014-05-19 15:02:31               Тимберлейк не увидел Майкла Джексона   \n",
              "52398  2013-08-21 15:14:43              Крымские чиновники уедут на поселение   \n",
              "52399  2019-04-04 17:40:22  «Врал народу ради Госдумы»: Шипулина обвинили ...   \n",
              "\n",
              "                                                 summary  \\\n",
              "0      В 2011 году из России уйдет $80 млрд, считают ...   \n",
              "1      Юлия Соловьева, экс-директор холдинга «Профмед...   \n",
              "2      Суд арестовал на два месяца четверых экс-чинов...   \n",
              "3      Мнения предпринимателей по поводу вступления в...   \n",
              "4      На Первом канале завершился третий сезон шоу «...   \n",
              "...                                                  ...   \n",
              "52395  В Москве за вымогательство $700 тысяч задержан...   \n",
              "52396  Сразу после теракта в московском аэропорту Дом...   \n",
              "52397  Вручены награды музыкального журнала Billboard...   \n",
              "52398  Абинский райсуд Краснодарского края вынес приг...   \n",
              "52399  Бывший президент СБР и четырехкратный олимпийс...   \n",
              "\n",
              "                                                    text  \\\n",
              "0      «По итогам 2011 года чистый отток может состав...   \n",
              "1      Российское подразделение интернет-корпорации G...   \n",
              "2      Басманный районный суд Москвы вечером 6 феврал...   \n",
              "3      Как повлияло вступление в ВТО на конкурентносп...   \n",
              "4      К третьему сезону «Голос» на Первом канале ста...   \n",
              "...                                                  ...   \n",
              "52395  Следователя следственного отдела московского р...   \n",
              "52396  В понедельник из-за взрыва в Домодедово в оста...   \n",
              "52397  В Лас-Вегасе прошла церемония награждения побе...   \n",
              "52398  В среду Абинский райсуд Краснодарского края пр...   \n",
              "52399  В Екатеринбурге появится спортивный комплекс и...   \n",
              "\n",
              "                                                     url  \n",
              "0      https://www.gazeta.ru/financial/2011/11/30/385...  \n",
              "1      https://www.gazeta.ru/business/2013/01/24/4939...  \n",
              "2      https://www.gazeta.ru/social/2018/02/06/116393...  \n",
              "3      https://www.gazeta.ru/business/2013/06/21/5388...  \n",
              "4      https://www.gazeta.ru/culture/2014/12/27/a_636...  \n",
              "...                                                  ...  \n",
              "52395  https://www.gazeta.ru/social/2010/10/13/342826...  \n",
              "52396  https://www.gazeta.ru/social/2011/01/24/350307...  \n",
              "52397  https://www.gazeta.ru/culture/2014/05/19/a_603...  \n",
              "52398  https://www.gazeta.ru/social/2013/08/21/560047...  \n",
              "52399  https://www.gazeta.ru/sport/2019/04/04/a_12284...  \n",
              "\n",
              "[52400 rows x 5 columns]"
            ],
            "text/html": [
              "\n",
              "  <div id=\"df-ba0184d7-ca2d-4b3a-b312-8db69d0c4036\">\n",
              "    <div class=\"colab-df-container\">\n",
              "      <div>\n",
              "<style scoped>\n",
              "    .dataframe tbody tr th:only-of-type {\n",
              "        vertical-align: middle;\n",
              "    }\n",
              "\n",
              "    .dataframe tbody tr th {\n",
              "        vertical-align: top;\n",
              "    }\n",
              "\n",
              "    .dataframe thead th {\n",
              "        text-align: right;\n",
              "    }\n",
              "</style>\n",
              "<table border=\"1\" class=\"dataframe\">\n",
              "  <thead>\n",
              "    <tr style=\"text-align: right;\">\n",
              "      <th></th>\n",
              "      <th>date</th>\n",
              "      <th>title</th>\n",
              "      <th>summary</th>\n",
              "      <th>text</th>\n",
              "      <th>url</th>\n",
              "    </tr>\n",
              "  </thead>\n",
              "  <tbody>\n",
              "    <tr>\n",
              "      <th>0</th>\n",
              "      <td>2011-11-30 18:33:39</td>\n",
              "      <td>Прогноз не успевает за оттоком</td>\n",
              "      <td>В 2011 году из России уйдет $80 млрд, считают ...</td>\n",
              "      <td>«По итогам 2011 года чистый отток может состав...</td>\n",
              "      <td>https://www.gazeta.ru/financial/2011/11/30/385...</td>\n",
              "    </tr>\n",
              "    <tr>\n",
              "      <th>1</th>\n",
              "      <td>2013-01-24 18:20:09</td>\n",
              "      <td>Google закончил поиск</td>\n",
              "      <td>Юлия Соловьева, экс-директор холдинга «Профмед...</td>\n",
              "      <td>Российское подразделение интернет-корпорации G...</td>\n",
              "      <td>https://www.gazeta.ru/business/2013/01/24/4939...</td>\n",
              "    </tr>\n",
              "    <tr>\n",
              "      <th>2</th>\n",
              "      <td>2018-02-06 21:21:14</td>\n",
              "      <td>«Фигуранты дела могут давить на свидетелей»</td>\n",
              "      <td>Суд арестовал на два месяца четверых экс-чинов...</td>\n",
              "      <td>Басманный районный суд Москвы вечером 6 феврал...</td>\n",
              "      <td>https://www.gazeta.ru/social/2018/02/06/116393...</td>\n",
              "    </tr>\n",
              "    <tr>\n",
              "      <th>3</th>\n",
              "      <td>2013-06-21 17:43:50</td>\n",
              "      <td>«С последних традиционно «отжимают» больше»</td>\n",
              "      <td>Мнения предпринимателей по поводу вступления в...</td>\n",
              "      <td>Как повлияло вступление в ВТО на конкурентносп...</td>\n",
              "      <td>https://www.gazeta.ru/business/2013/06/21/5388...</td>\n",
              "    </tr>\n",
              "    <tr>\n",
              "      <th>4</th>\n",
              "      <td>2014-12-27 01:10:01</td>\n",
              "      <td>Третий «Голос» за Градского</td>\n",
              "      <td>На Первом канале завершился третий сезон шоу «...</td>\n",
              "      <td>К третьему сезону «Голос» на Первом канале ста...</td>\n",
              "      <td>https://www.gazeta.ru/culture/2014/12/27/a_636...</td>\n",
              "    </tr>\n",
              "    <tr>\n",
              "      <th>...</th>\n",
              "      <td>...</td>\n",
              "      <td>...</td>\n",
              "      <td>...</td>\n",
              "      <td>...</td>\n",
              "      <td>...</td>\n",
              "    </tr>\n",
              "    <tr>\n",
              "      <th>52395</th>\n",
              "      <td>2010-10-13 14:01:03</td>\n",
              "      <td>Взятку привезли на «Мерседесе»</td>\n",
              "      <td>В Москве за вымогательство $700 тысяч задержан...</td>\n",
              "      <td>Следователя следственного отдела московского р...</td>\n",
              "      <td>https://www.gazeta.ru/social/2010/10/13/342826...</td>\n",
              "    </tr>\n",
              "    <tr>\n",
              "      <th>52396</th>\n",
              "      <td>2011-01-24 23:30:01</td>\n",
              "      <td>Аэропорты вызывают на досмотр</td>\n",
              "      <td>Сразу после теракта в московском аэропорту Дом...</td>\n",
              "      <td>В понедельник из-за взрыва в Домодедово в оста...</td>\n",
              "      <td>https://www.gazeta.ru/social/2011/01/24/350307...</td>\n",
              "    </tr>\n",
              "    <tr>\n",
              "      <th>52397</th>\n",
              "      <td>2014-05-19 15:02:31</td>\n",
              "      <td>Тимберлейк не увидел Майкла Джексона</td>\n",
              "      <td>Вручены награды музыкального журнала Billboard...</td>\n",
              "      <td>В Лас-Вегасе прошла церемония награждения побе...</td>\n",
              "      <td>https://www.gazeta.ru/culture/2014/05/19/a_603...</td>\n",
              "    </tr>\n",
              "    <tr>\n",
              "      <th>52398</th>\n",
              "      <td>2013-08-21 15:14:43</td>\n",
              "      <td>Крымские чиновники уедут на поселение</td>\n",
              "      <td>Абинский райсуд Краснодарского края вынес приг...</td>\n",
              "      <td>В среду Абинский райсуд Краснодарского края пр...</td>\n",
              "      <td>https://www.gazeta.ru/social/2013/08/21/560047...</td>\n",
              "    </tr>\n",
              "    <tr>\n",
              "      <th>52399</th>\n",
              "      <td>2019-04-04 17:40:22</td>\n",
              "      <td>«Врал народу ради Госдумы»: Шипулина обвинили ...</td>\n",
              "      <td>Бывший президент СБР и четырехкратный олимпийс...</td>\n",
              "      <td>В Екатеринбурге появится спортивный комплекс и...</td>\n",
              "      <td>https://www.gazeta.ru/sport/2019/04/04/a_12284...</td>\n",
              "    </tr>\n",
              "  </tbody>\n",
              "</table>\n",
              "<p>52400 rows × 5 columns</p>\n",
              "</div>\n",
              "      <button class=\"colab-df-convert\" onclick=\"convertToInteractive('df-ba0184d7-ca2d-4b3a-b312-8db69d0c4036')\"\n",
              "              title=\"Convert this dataframe to an interactive table.\"\n",
              "              style=\"display:none;\">\n",
              "        \n",
              "  <svg xmlns=\"http://www.w3.org/2000/svg\" height=\"24px\"viewBox=\"0 0 24 24\"\n",
              "       width=\"24px\">\n",
              "    <path d=\"M0 0h24v24H0V0z\" fill=\"none\"/>\n",
              "    <path d=\"M18.56 5.44l.94 2.06.94-2.06 2.06-.94-2.06-.94-.94-2.06-.94 2.06-2.06.94zm-11 1L8.5 8.5l.94-2.06 2.06-.94-2.06-.94L8.5 2.5l-.94 2.06-2.06.94zm10 10l.94 2.06.94-2.06 2.06-.94-2.06-.94-.94-2.06-.94 2.06-2.06.94z\"/><path d=\"M17.41 7.96l-1.37-1.37c-.4-.4-.92-.59-1.43-.59-.52 0-1.04.2-1.43.59L10.3 9.45l-7.72 7.72c-.78.78-.78 2.05 0 2.83L4 21.41c.39.39.9.59 1.41.59.51 0 1.02-.2 1.41-.59l7.78-7.78 2.81-2.81c.8-.78.8-2.07 0-2.86zM5.41 20L4 18.59l7.72-7.72 1.47 1.35L5.41 20z\"/>\n",
              "  </svg>\n",
              "      </button>\n",
              "      \n",
              "  <style>\n",
              "    .colab-df-container {\n",
              "      display:flex;\n",
              "      flex-wrap:wrap;\n",
              "      gap: 12px;\n",
              "    }\n",
              "\n",
              "    .colab-df-convert {\n",
              "      background-color: #E8F0FE;\n",
              "      border: none;\n",
              "      border-radius: 50%;\n",
              "      cursor: pointer;\n",
              "      display: none;\n",
              "      fill: #1967D2;\n",
              "      height: 32px;\n",
              "      padding: 0 0 0 0;\n",
              "      width: 32px;\n",
              "    }\n",
              "\n",
              "    .colab-df-convert:hover {\n",
              "      background-color: #E2EBFA;\n",
              "      box-shadow: 0px 1px 2px rgba(60, 64, 67, 0.3), 0px 1px 3px 1px rgba(60, 64, 67, 0.15);\n",
              "      fill: #174EA6;\n",
              "    }\n",
              "\n",
              "    [theme=dark] .colab-df-convert {\n",
              "      background-color: #3B4455;\n",
              "      fill: #D2E3FC;\n",
              "    }\n",
              "\n",
              "    [theme=dark] .colab-df-convert:hover {\n",
              "      background-color: #434B5C;\n",
              "      box-shadow: 0px 1px 3px 1px rgba(0, 0, 0, 0.15);\n",
              "      filter: drop-shadow(0px 1px 2px rgba(0, 0, 0, 0.3));\n",
              "      fill: #FFFFFF;\n",
              "    }\n",
              "  </style>\n",
              "\n",
              "      <script>\n",
              "        const buttonEl =\n",
              "          document.querySelector('#df-ba0184d7-ca2d-4b3a-b312-8db69d0c4036 button.colab-df-convert');\n",
              "        buttonEl.style.display =\n",
              "          google.colab.kernel.accessAllowed ? 'block' : 'none';\n",
              "\n",
              "        async function convertToInteractive(key) {\n",
              "          const element = document.querySelector('#df-ba0184d7-ca2d-4b3a-b312-8db69d0c4036');\n",
              "          const dataTable =\n",
              "            await google.colab.kernel.invokeFunction('convertToInteractive',\n",
              "                                                     [key], {});\n",
              "          if (!dataTable) return;\n",
              "\n",
              "          const docLinkHtml = 'Like what you see? Visit the ' +\n",
              "            '<a target=\"_blank\" href=https://colab.research.google.com/notebooks/data_table.ipynb>data table notebook</a>'\n",
              "            + ' to learn more about interactive tables.';\n",
              "          element.innerHTML = '';\n",
              "          dataTable['output_type'] = 'display_data';\n",
              "          await google.colab.output.renderOutput(dataTable, element);\n",
              "          const docLink = document.createElement('div');\n",
              "          docLink.innerHTML = docLinkHtml;\n",
              "          element.appendChild(docLink);\n",
              "        }\n",
              "      </script>\n",
              "    </div>\n",
              "  </div>\n",
              "  "
            ]
          },
          "metadata": {},
          "execution_count": 18
        }
      ]
    },
    {
      "cell_type": "code",
      "source": [
        "import tensorflow as tf\n",
        "from transformers import TFAutoModel, AutoTokenizer"
      ],
      "metadata": {
        "id": "zkIBi6f0Vd64"
      },
      "execution_count": 19,
      "outputs": []
    },
    {
      "cell_type": "markdown",
      "source": [
        "Возьмем из методички бертовую модель для построения эмбеддинга текста"
      ],
      "metadata": {
        "id": "Ya_aG08RYaLm"
      }
    },
    {
      "cell_type": "code",
      "source": [
        "bert = TFAutoModel.from_pretrained(\"Geotrend/bert-base-ru-cased\")\n",
        "tokenizer = AutoTokenizer.from_pretrained(\"Geotrend/bert-base-ru-cased\")"
      ],
      "metadata": {
        "colab": {
          "base_uri": "https://localhost:8080/"
        },
        "id": "F5O5gWPNV5B8",
        "outputId": "c271c834-5a60-4ecd-feef-8b94fcb863bc"
      },
      "execution_count": 20,
      "outputs": [
        {
          "output_type": "stream",
          "name": "stderr",
          "text": [
            "Some layers from the model checkpoint at Geotrend/bert-base-ru-cased were not used when initializing TFBertModel: ['mlm___cls']\n",
            "- This IS expected if you are initializing TFBertModel from the checkpoint of a model trained on another task or with another architecture (e.g. initializing a BertForSequenceClassification model from a BertForPreTraining model).\n",
            "- This IS NOT expected if you are initializing TFBertModel from the checkpoint of a model that you expect to be exactly identical (initializing a BertForSequenceClassification model from a BertForSequenceClassification model).\n",
            "All the layers of TFBertModel were initialized from the model checkpoint at Geotrend/bert-base-ru-cased.\n",
            "If your task is similar to the task the model of the checkpoint was trained on, you can already use TFBertModel for predictions without further training.\n"
          ]
        }
      ]
    },
    {
      "cell_type": "code",
      "source": [
        "def preprocess_batch(batch):\n",
        "    token = tokenizer(batch, \n",
        "                      max_length=50, \n",
        "                      truncation=True, \n",
        "                      padding='max_length', \n",
        "                      return_token_type_ids=False, \n",
        "                      return_tensors='tf')\n",
        "    return token"
      ],
      "metadata": {
        "id": "wqnLuoyUV8tM"
      },
      "execution_count": 59,
      "outputs": []
    },
    {
      "cell_type": "code",
      "source": [
        "def get_tokens(corpus):\n",
        "    num_batches = len(corpus) // 512\n",
        "    last_batch = False\n",
        "    if len(corpus) % 512 > 0:\n",
        "        last_batch = True\n",
        "    tokens = []\n",
        "    for idx in tqdm_notebook(range(num_batches)):\n",
        "        token = preprocess_batch(corpus[idx * 512:(idx + 1) * 512])\n",
        "        tokens.append(token)\n",
        "    if last_batch:\n",
        "        tokens.append(preprocess_batch(corpus[num_batches * 512:]))\n",
        "    return tokens"
      ],
      "metadata": {
        "id": "DuMUPSGjW8ev"
      },
      "execution_count": 60,
      "outputs": []
    },
    {
      "cell_type": "code",
      "source": [
        "sent_summary = get_tokens(data_df.summary.tolist())"
      ],
      "metadata": {
        "colab": {
          "base_uri": "https://localhost:8080/",
          "height": 101,
          "referenced_widgets": [
            "0090a1b37c3148599db0136004ff2e6a",
            "79e196dcb0f64fb7b9c317879c359b51",
            "59df8304a19c44cd94ebf9503c7da1ab",
            "893c79312ac144e295a3f3afed689d94",
            "9eef0b440acc4a1dbb99597ead3cbcd1",
            "1ba3e34599514fa5bc747d164b27d3e8",
            "7964d6d62d304a0597f5e0f98583f298",
            "09a6bdd5a42b4b30a24a83550ea6d96e",
            "f8d4c41082a543918bac2fe5acbce873",
            "404281fd77f043098b579c217bd1e525",
            "990a60a0d2324363ac38d418381f8221"
          ]
        },
        "id": "XiiOMWmZX-zl",
        "outputId": "d53e5261-345d-4716-b4c6-72625eb20e9e"
      },
      "execution_count": 61,
      "outputs": [
        {
          "output_type": "stream",
          "name": "stderr",
          "text": [
            "/usr/local/lib/python3.7/dist-packages/ipykernel_launcher.py:7: TqdmDeprecationWarning: This function will be removed in tqdm==5.0.0\n",
            "Please use `tqdm.notebook.tqdm` instead of `tqdm.tqdm_notebook`\n",
            "  import sys\n"
          ]
        },
        {
          "output_type": "display_data",
          "data": {
            "text/plain": [
              "  0%|          | 0/102 [00:00<?, ?it/s]"
            ],
            "application/vnd.jupyter.widget-view+json": {
              "version_major": 2,
              "version_minor": 0,
              "model_id": "0090a1b37c3148599db0136004ff2e6a"
            }
          },
          "metadata": {}
        }
      ]
    },
    {
      "cell_type": "code",
      "source": [
        "def get_embeddings(model, tokens):\n",
        "    embeddings = []\n",
        "    for token in tqdm_notebook(tokens):\n",
        "        embedding = model(**token)[1]\n",
        "        embeddings.extend(embedding)\n",
        "    \n",
        "    return embeddings"
      ],
      "metadata": {
        "id": "VDkmin_DzBXr"
      },
      "execution_count": 62,
      "outputs": []
    },
    {
      "cell_type": "code",
      "source": [
        "embeddings = get_embeddings(bert, sent_summary)"
      ],
      "metadata": {
        "colab": {
          "base_uri": "https://localhost:8080/",
          "height": 101,
          "referenced_widgets": [
            "b848c72906484d38bc6d2c03445b6fc6",
            "90d5aa15d33343bca1586cd253f834cd",
            "48241c20ae664006a74247a0081d1b97",
            "582054b600d84fed96b3501926287619",
            "da65c17e558d465a8cc3e5c1b92f388b",
            "c5846c17b50149f2be6e6957fa27c9f1",
            "993574292dbe464386e4907aa5aa2f34",
            "41853f44193f4c73bc465f1908bf4489",
            "21e360ef9d5344558342427eb1bc9ea2",
            "e9ccb92305dc456da873423651baae10",
            "faeab204d9fb4018b1ce3547025fbac5"
          ]
        },
        "id": "lkIM-jRG1Rcz",
        "outputId": "973e13ae-0fae-40b5-8251-5dfa78b8cd57"
      },
      "execution_count": 63,
      "outputs": [
        {
          "output_type": "stream",
          "name": "stderr",
          "text": [
            "/usr/local/lib/python3.7/dist-packages/ipykernel_launcher.py:3: TqdmDeprecationWarning: This function will be removed in tqdm==5.0.0\n",
            "Please use `tqdm.notebook.tqdm` instead of `tqdm.tqdm_notebook`\n",
            "  This is separate from the ipykernel package so we can avoid doing imports until\n"
          ]
        },
        {
          "output_type": "display_data",
          "data": {
            "text/plain": [
              "  0%|          | 0/103 [00:00<?, ?it/s]"
            ],
            "application/vnd.jupyter.widget-view+json": {
              "version_major": 2,
              "version_minor": 0,
              "model_id": "b848c72906484d38bc6d2c03445b6fc6"
            }
          },
          "metadata": {}
        }
      ]
    },
    {
      "cell_type": "markdown",
      "source": [
        "Посмотрим на размерность вектора эмбеддинга предложения"
      ],
      "metadata": {
        "id": "4uUZsULFaRFM"
      }
    },
    {
      "cell_type": "code",
      "source": [
        "embeddings[0].shape"
      ],
      "metadata": {
        "colab": {
          "base_uri": "https://localhost:8080/"
        },
        "id": "AyA_PaR4ZZhC",
        "outputId": "0292238f-5ab0-426d-e6de-53942ff7fa82"
      },
      "execution_count": 64,
      "outputs": [
        {
          "output_type": "execute_result",
          "data": {
            "text/plain": [
              "TensorShape([768])"
            ]
          },
          "metadata": {},
          "execution_count": 64
        }
      ]
    },
    {
      "cell_type": "code",
      "source": [
        "len(embeddings)"
      ],
      "metadata": {
        "colab": {
          "base_uri": "https://localhost:8080/"
        },
        "id": "A_Fxm6tm4k3r",
        "outputId": "b8927478-4515-4dff-a70d-cc2525dca66f"
      },
      "execution_count": 65,
      "outputs": [
        {
          "output_type": "execute_result",
          "data": {
            "text/plain": [
              "52400"
            ]
          },
          "metadata": {},
          "execution_count": 65
        }
      ]
    },
    {
      "cell_type": "code",
      "source": [
        "# Через AnnoyIndex не получилось - векторы размерности 768 обрабатывались 5 часов\n",
        "\"\"\"\n",
        "def get_annoy_index(embeddings):\n",
        "    index = annoy.AnnoyIndex(768 ,'angular')\n",
        "    \n",
        "    counter = 0\n",
        "\n",
        "    for vector in tqdm_notebook(embeddings):\n",
        "        index.add_item(counter, vector)\n",
        "        counter += 1\n",
        "        \n",
        "    index.build(10)\n",
        "\n",
        "    return index\n",
        "    \"\"\""
      ],
      "metadata": {
        "colab": {
          "base_uri": "https://localhost:8080/",
          "height": 53
        },
        "id": "1slEZHWEYxUG",
        "outputId": "6d1dc38a-02ce-49d2-cb07-ad766ee29609"
      },
      "execution_count": 66,
      "outputs": [
        {
          "output_type": "execute_result",
          "data": {
            "text/plain": [
              "\"\\ndef get_annoy_index(embeddings):\\n    index = annoy.AnnoyIndex(768 ,'angular')\\n    \\n    counter = 0\\n\\n    for vector in tqdm_notebook(embeddings):\\n        index.add_item(counter, vector)\\n        counter += 1\\n        \\n    index.build(10)\\n\\n    return index\\n    \""
            ],
            "application/vnd.google.colaboratory.intrinsic+json": {
              "type": "string"
            }
          },
          "metadata": {},
          "execution_count": 66
        }
      ]
    },
    {
      "cell_type": "markdown",
      "source": [
        "Так как через Annoy не получилось, просто посчитаем евклидово расстояние между вектором запроса и эмбеддингами аннотаций статей"
      ],
      "metadata": {
        "id": "A5UbWRtKI4Eu"
      }
    },
    {
      "cell_type": "code",
      "source": [
        "from scipy.spatial import distance\n",
        "\n",
        "def get_response(question, embeddings, model, most_similar=3):\n",
        "    question = preprocess_batch(question)\n",
        "    vector = model(**question)[1]\n",
        "\n",
        "    dists = distance.cdist(vector, embeddings, metric='euclidean')[0]\n",
        "    sd = np.sort(dists)[:most_similar]\n",
        "    answers = []\n",
        "    for itm in sd:\n",
        "        answers.append(np.where(dists == itm)[0][0])\n",
        "    return answers"
      ],
      "metadata": {
        "id": "y1vx5K0ecxY8"
      },
      "execution_count": 67,
      "outputs": []
    },
    {
      "cell_type": "code",
      "source": [
        "question = 'Чемпион России по футболу'\n",
        "answers = get_response(question, embeddings, bert)\n",
        "data_df.iloc[answers]"
      ],
      "metadata": {
        "colab": {
          "base_uri": "https://localhost:8080/",
          "height": 240
        },
        "id": "fLmxU9e-CAh1",
        "outputId": "03fe4674-fcb1-4bcf-e467-69d667a9668e"
      },
      "execution_count": 68,
      "outputs": [
        {
          "output_type": "execute_result",
          "data": {
            "text/plain": [
              "                      date                                   title  \\\n",
              "27502  2012-01-26 00:08:44             Пантелич нацелился на Кубок   \n",
              "30436  2013-04-20 01:03:26              «Ткачи» не ровня «Ворскле»   \n",
              "5973   2012-09-19 16:35:00  Овечкин пойдет в атаку с бело-голубыми   \n",
              "\n",
              "                                                 summary  \\\n",
              "27502  «Олимпиакос», разгромив дома «Паниониос», выше...   \n",
              "30436  Ведущий борьбу за путевку в Лигу чемпионов «Ли...   \n",
              "5973   Нападающий Александр Овечкин на время локаута ...   \n",
              "\n",
              "                                                    text  \\\n",
              "27502  Соперник казанского «Рубина» по 1/16 финала Ли...   \n",
              "30436  Не только в России, но и во многих европейских...   \n",
              "5973   Капитан «Вашингтона» Александр Овечкин вернулс...   \n",
              "\n",
              "                                                     url  \n",
              "27502  https://www.gazeta.ru/sport/2012/01/25/a_39749...  \n",
              "30436  https://www.gazeta.ru/sport/2013/04/20/a_52627...  \n",
              "5973   https://www.gazeta.ru/sport/2012/09/19/a_47784...  "
            ],
            "text/html": [
              "\n",
              "  <div id=\"df-654c2791-a5c9-4545-8be4-16d6c183d906\">\n",
              "    <div class=\"colab-df-container\">\n",
              "      <div>\n",
              "<style scoped>\n",
              "    .dataframe tbody tr th:only-of-type {\n",
              "        vertical-align: middle;\n",
              "    }\n",
              "\n",
              "    .dataframe tbody tr th {\n",
              "        vertical-align: top;\n",
              "    }\n",
              "\n",
              "    .dataframe thead th {\n",
              "        text-align: right;\n",
              "    }\n",
              "</style>\n",
              "<table border=\"1\" class=\"dataframe\">\n",
              "  <thead>\n",
              "    <tr style=\"text-align: right;\">\n",
              "      <th></th>\n",
              "      <th>date</th>\n",
              "      <th>title</th>\n",
              "      <th>summary</th>\n",
              "      <th>text</th>\n",
              "      <th>url</th>\n",
              "    </tr>\n",
              "  </thead>\n",
              "  <tbody>\n",
              "    <tr>\n",
              "      <th>27502</th>\n",
              "      <td>2012-01-26 00:08:44</td>\n",
              "      <td>Пантелич нацелился на Кубок</td>\n",
              "      <td>«Олимпиакос», разгромив дома «Паниониос», выше...</td>\n",
              "      <td>Соперник казанского «Рубина» по 1/16 финала Ли...</td>\n",
              "      <td>https://www.gazeta.ru/sport/2012/01/25/a_39749...</td>\n",
              "    </tr>\n",
              "    <tr>\n",
              "      <th>30436</th>\n",
              "      <td>2013-04-20 01:03:26</td>\n",
              "      <td>«Ткачи» не ровня «Ворскле»</td>\n",
              "      <td>Ведущий борьбу за путевку в Лигу чемпионов «Ли...</td>\n",
              "      <td>Не только в России, но и во многих европейских...</td>\n",
              "      <td>https://www.gazeta.ru/sport/2013/04/20/a_52627...</td>\n",
              "    </tr>\n",
              "    <tr>\n",
              "      <th>5973</th>\n",
              "      <td>2012-09-19 16:35:00</td>\n",
              "      <td>Овечкин пойдет в атаку с бело-голубыми</td>\n",
              "      <td>Нападающий Александр Овечкин на время локаута ...</td>\n",
              "      <td>Капитан «Вашингтона» Александр Овечкин вернулс...</td>\n",
              "      <td>https://www.gazeta.ru/sport/2012/09/19/a_47784...</td>\n",
              "    </tr>\n",
              "  </tbody>\n",
              "</table>\n",
              "</div>\n",
              "      <button class=\"colab-df-convert\" onclick=\"convertToInteractive('df-654c2791-a5c9-4545-8be4-16d6c183d906')\"\n",
              "              title=\"Convert this dataframe to an interactive table.\"\n",
              "              style=\"display:none;\">\n",
              "        \n",
              "  <svg xmlns=\"http://www.w3.org/2000/svg\" height=\"24px\"viewBox=\"0 0 24 24\"\n",
              "       width=\"24px\">\n",
              "    <path d=\"M0 0h24v24H0V0z\" fill=\"none\"/>\n",
              "    <path d=\"M18.56 5.44l.94 2.06.94-2.06 2.06-.94-2.06-.94-.94-2.06-.94 2.06-2.06.94zm-11 1L8.5 8.5l.94-2.06 2.06-.94-2.06-.94L8.5 2.5l-.94 2.06-2.06.94zm10 10l.94 2.06.94-2.06 2.06-.94-2.06-.94-.94-2.06-.94 2.06-2.06.94z\"/><path d=\"M17.41 7.96l-1.37-1.37c-.4-.4-.92-.59-1.43-.59-.52 0-1.04.2-1.43.59L10.3 9.45l-7.72 7.72c-.78.78-.78 2.05 0 2.83L4 21.41c.39.39.9.59 1.41.59.51 0 1.02-.2 1.41-.59l7.78-7.78 2.81-2.81c.8-.78.8-2.07 0-2.86zM5.41 20L4 18.59l7.72-7.72 1.47 1.35L5.41 20z\"/>\n",
              "  </svg>\n",
              "      </button>\n",
              "      \n",
              "  <style>\n",
              "    .colab-df-container {\n",
              "      display:flex;\n",
              "      flex-wrap:wrap;\n",
              "      gap: 12px;\n",
              "    }\n",
              "\n",
              "    .colab-df-convert {\n",
              "      background-color: #E8F0FE;\n",
              "      border: none;\n",
              "      border-radius: 50%;\n",
              "      cursor: pointer;\n",
              "      display: none;\n",
              "      fill: #1967D2;\n",
              "      height: 32px;\n",
              "      padding: 0 0 0 0;\n",
              "      width: 32px;\n",
              "    }\n",
              "\n",
              "    .colab-df-convert:hover {\n",
              "      background-color: #E2EBFA;\n",
              "      box-shadow: 0px 1px 2px rgba(60, 64, 67, 0.3), 0px 1px 3px 1px rgba(60, 64, 67, 0.15);\n",
              "      fill: #174EA6;\n",
              "    }\n",
              "\n",
              "    [theme=dark] .colab-df-convert {\n",
              "      background-color: #3B4455;\n",
              "      fill: #D2E3FC;\n",
              "    }\n",
              "\n",
              "    [theme=dark] .colab-df-convert:hover {\n",
              "      background-color: #434B5C;\n",
              "      box-shadow: 0px 1px 3px 1px rgba(0, 0, 0, 0.15);\n",
              "      filter: drop-shadow(0px 1px 2px rgba(0, 0, 0, 0.3));\n",
              "      fill: #FFFFFF;\n",
              "    }\n",
              "  </style>\n",
              "\n",
              "      <script>\n",
              "        const buttonEl =\n",
              "          document.querySelector('#df-654c2791-a5c9-4545-8be4-16d6c183d906 button.colab-df-convert');\n",
              "        buttonEl.style.display =\n",
              "          google.colab.kernel.accessAllowed ? 'block' : 'none';\n",
              "\n",
              "        async function convertToInteractive(key) {\n",
              "          const element = document.querySelector('#df-654c2791-a5c9-4545-8be4-16d6c183d906');\n",
              "          const dataTable =\n",
              "            await google.colab.kernel.invokeFunction('convertToInteractive',\n",
              "                                                     [key], {});\n",
              "          if (!dataTable) return;\n",
              "\n",
              "          const docLinkHtml = 'Like what you see? Visit the ' +\n",
              "            '<a target=\"_blank\" href=https://colab.research.google.com/notebooks/data_table.ipynb>data table notebook</a>'\n",
              "            + ' to learn more about interactive tables.';\n",
              "          element.innerHTML = '';\n",
              "          dataTable['output_type'] = 'display_data';\n",
              "          await google.colab.output.renderOutput(dataTable, element);\n",
              "          const docLink = document.createElement('div');\n",
              "          docLink.innerHTML = docLinkHtml;\n",
              "          element.appendChild(docLink);\n",
              "        }\n",
              "      </script>\n",
              "    </div>\n",
              "  </div>\n",
              "  "
            ]
          },
          "metadata": {},
          "execution_count": 68
        }
      ]
    },
    {
      "cell_type": "code",
      "source": [
        "question = 'Программы освоения космоса'\n",
        "answers = get_response(question, embeddings, bert)\n",
        "data_df.iloc[answers]"
      ],
      "metadata": {
        "colab": {
          "base_uri": "https://localhost:8080/",
          "height": 240
        },
        "id": "feV3zuClJbnh",
        "outputId": "2e8686e6-0a00-4eea-ce8a-e53613d2366a"
      },
      "execution_count": 69,
      "outputs": [
        {
          "output_type": "execute_result",
          "data": {
            "text/plain": [
              "                      date                                              title  \\\n",
              "31490  2010-06-10 15:57:34                        Рейтинг падает от усталости   \n",
              "14649  2019-04-16 20:05:33  «Сроки переносятся, расходы растут»: Путин про...   \n",
              "17521  2010-11-30 12:00:37                          Пхеньян развел центрифуги   \n",
              "\n",
              "                                                 summary  \\\n",
              "31490  Рейтинги доверия президенту Дмитрию Медведеву ...   \n",
              "14649  Сроки проектов переносятся, бюджетные расходы ...   \n",
              "17521  Северная Корея заявляет, что имеет «тысячи раб...   \n",
              "\n",
              "                                                    text  \\\n",
              "31490  «Фонд общественное мнение» опубликовал результ...   \n",
              "14649  О новых задачах и проблемах в российской косми...   \n",
              "17521  На заводе по обогащению урана в КНДР запущены ...   \n",
              "\n",
              "                                                     url  \n",
              "31490  https://www.gazeta.ru/politics/2010/06/10_a_33...  \n",
              "14649  https://www.gazeta.ru/science/2019/04/16_a_123...  \n",
              "17521  https://www.gazeta.ru/politics/2010/11/30_a_34...  "
            ],
            "text/html": [
              "\n",
              "  <div id=\"df-c348947c-52be-42c3-a876-8221f3697be2\">\n",
              "    <div class=\"colab-df-container\">\n",
              "      <div>\n",
              "<style scoped>\n",
              "    .dataframe tbody tr th:only-of-type {\n",
              "        vertical-align: middle;\n",
              "    }\n",
              "\n",
              "    .dataframe tbody tr th {\n",
              "        vertical-align: top;\n",
              "    }\n",
              "\n",
              "    .dataframe thead th {\n",
              "        text-align: right;\n",
              "    }\n",
              "</style>\n",
              "<table border=\"1\" class=\"dataframe\">\n",
              "  <thead>\n",
              "    <tr style=\"text-align: right;\">\n",
              "      <th></th>\n",
              "      <th>date</th>\n",
              "      <th>title</th>\n",
              "      <th>summary</th>\n",
              "      <th>text</th>\n",
              "      <th>url</th>\n",
              "    </tr>\n",
              "  </thead>\n",
              "  <tbody>\n",
              "    <tr>\n",
              "      <th>31490</th>\n",
              "      <td>2010-06-10 15:57:34</td>\n",
              "      <td>Рейтинг падает от усталости</td>\n",
              "      <td>Рейтинги доверия президенту Дмитрию Медведеву ...</td>\n",
              "      <td>«Фонд общественное мнение» опубликовал результ...</td>\n",
              "      <td>https://www.gazeta.ru/politics/2010/06/10_a_33...</td>\n",
              "    </tr>\n",
              "    <tr>\n",
              "      <th>14649</th>\n",
              "      <td>2019-04-16 20:05:33</td>\n",
              "      <td>«Сроки переносятся, расходы растут»: Путин про...</td>\n",
              "      <td>Сроки проектов переносятся, бюджетные расходы ...</td>\n",
              "      <td>О новых задачах и проблемах в российской косми...</td>\n",
              "      <td>https://www.gazeta.ru/science/2019/04/16_a_123...</td>\n",
              "    </tr>\n",
              "    <tr>\n",
              "      <th>17521</th>\n",
              "      <td>2010-11-30 12:00:37</td>\n",
              "      <td>Пхеньян развел центрифуги</td>\n",
              "      <td>Северная Корея заявляет, что имеет «тысячи раб...</td>\n",
              "      <td>На заводе по обогащению урана в КНДР запущены ...</td>\n",
              "      <td>https://www.gazeta.ru/politics/2010/11/30_a_34...</td>\n",
              "    </tr>\n",
              "  </tbody>\n",
              "</table>\n",
              "</div>\n",
              "      <button class=\"colab-df-convert\" onclick=\"convertToInteractive('df-c348947c-52be-42c3-a876-8221f3697be2')\"\n",
              "              title=\"Convert this dataframe to an interactive table.\"\n",
              "              style=\"display:none;\">\n",
              "        \n",
              "  <svg xmlns=\"http://www.w3.org/2000/svg\" height=\"24px\"viewBox=\"0 0 24 24\"\n",
              "       width=\"24px\">\n",
              "    <path d=\"M0 0h24v24H0V0z\" fill=\"none\"/>\n",
              "    <path d=\"M18.56 5.44l.94 2.06.94-2.06 2.06-.94-2.06-.94-.94-2.06-.94 2.06-2.06.94zm-11 1L8.5 8.5l.94-2.06 2.06-.94-2.06-.94L8.5 2.5l-.94 2.06-2.06.94zm10 10l.94 2.06.94-2.06 2.06-.94-2.06-.94-.94-2.06-.94 2.06-2.06.94z\"/><path d=\"M17.41 7.96l-1.37-1.37c-.4-.4-.92-.59-1.43-.59-.52 0-1.04.2-1.43.59L10.3 9.45l-7.72 7.72c-.78.78-.78 2.05 0 2.83L4 21.41c.39.39.9.59 1.41.59.51 0 1.02-.2 1.41-.59l7.78-7.78 2.81-2.81c.8-.78.8-2.07 0-2.86zM5.41 20L4 18.59l7.72-7.72 1.47 1.35L5.41 20z\"/>\n",
              "  </svg>\n",
              "      </button>\n",
              "      \n",
              "  <style>\n",
              "    .colab-df-container {\n",
              "      display:flex;\n",
              "      flex-wrap:wrap;\n",
              "      gap: 12px;\n",
              "    }\n",
              "\n",
              "    .colab-df-convert {\n",
              "      background-color: #E8F0FE;\n",
              "      border: none;\n",
              "      border-radius: 50%;\n",
              "      cursor: pointer;\n",
              "      display: none;\n",
              "      fill: #1967D2;\n",
              "      height: 32px;\n",
              "      padding: 0 0 0 0;\n",
              "      width: 32px;\n",
              "    }\n",
              "\n",
              "    .colab-df-convert:hover {\n",
              "      background-color: #E2EBFA;\n",
              "      box-shadow: 0px 1px 2px rgba(60, 64, 67, 0.3), 0px 1px 3px 1px rgba(60, 64, 67, 0.15);\n",
              "      fill: #174EA6;\n",
              "    }\n",
              "\n",
              "    [theme=dark] .colab-df-convert {\n",
              "      background-color: #3B4455;\n",
              "      fill: #D2E3FC;\n",
              "    }\n",
              "\n",
              "    [theme=dark] .colab-df-convert:hover {\n",
              "      background-color: #434B5C;\n",
              "      box-shadow: 0px 1px 3px 1px rgba(0, 0, 0, 0.15);\n",
              "      filter: drop-shadow(0px 1px 2px rgba(0, 0, 0, 0.3));\n",
              "      fill: #FFFFFF;\n",
              "    }\n",
              "  </style>\n",
              "\n",
              "      <script>\n",
              "        const buttonEl =\n",
              "          document.querySelector('#df-c348947c-52be-42c3-a876-8221f3697be2 button.colab-df-convert');\n",
              "        buttonEl.style.display =\n",
              "          google.colab.kernel.accessAllowed ? 'block' : 'none';\n",
              "\n",
              "        async function convertToInteractive(key) {\n",
              "          const element = document.querySelector('#df-c348947c-52be-42c3-a876-8221f3697be2');\n",
              "          const dataTable =\n",
              "            await google.colab.kernel.invokeFunction('convertToInteractive',\n",
              "                                                     [key], {});\n",
              "          if (!dataTable) return;\n",
              "\n",
              "          const docLinkHtml = 'Like what you see? Visit the ' +\n",
              "            '<a target=\"_blank\" href=https://colab.research.google.com/notebooks/data_table.ipynb>data table notebook</a>'\n",
              "            + ' to learn more about interactive tables.';\n",
              "          element.innerHTML = '';\n",
              "          dataTable['output_type'] = 'display_data';\n",
              "          await google.colab.output.renderOutput(dataTable, element);\n",
              "          const docLink = document.createElement('div');\n",
              "          docLink.innerHTML = docLinkHtml;\n",
              "          element.appendChild(docLink);\n",
              "        }\n",
              "      </script>\n",
              "    </div>\n",
              "  </div>\n",
              "  "
            ]
          },
          "metadata": {},
          "execution_count": 69
        }
      ]
    },
    {
      "cell_type": "code",
      "source": [
        "question = 'новости IT сферы'\n",
        "answers = get_response(question, embeddings, bert)\n",
        "data_df.iloc[answers]"
      ],
      "metadata": {
        "colab": {
          "base_uri": "https://localhost:8080/",
          "height": 240
        },
        "id": "jsqQK3tAJ0Vh",
        "outputId": "f5b69b87-d88c-4f97-8064-3891cd369852"
      },
      "execution_count": 72,
      "outputs": [
        {
          "output_type": "execute_result",
          "data": {
            "text/plain": [
              "                      date                       title  \\\n",
              "18448  2011-04-09 12:17:00   Android расправляет плечи   \n",
              "1      2013-01-24 18:20:09       Google закончил поиск   \n",
              "40192  2012-01-19 12:30:33  Клуб инсайдерской торговли   \n",
              "\n",
              "                                                 summary  \\\n",
              "18448  Рынок смартфонов увеличится на 58% в этом году...   \n",
              "1      Юлия Соловьева, экс-директор холдинга «Профмед...   \n",
              "40192  В США выявлено крупнейшее мошенничество, совер...   \n",
              "\n",
              "                                                    text  \\\n",
              "18448  В 2011 году в мире будет продано 468 млн смарт...   \n",
              "1      Российское подразделение интернет-корпорации G...   \n",
              "40192  Комиссия по ценным бумагам США, ФБР и прокурат...   \n",
              "\n",
              "                                                     url  \n",
              "18448  https://www.gazeta.ru/business/2011/04/08/3579...  \n",
              "1      https://www.gazeta.ru/business/2013/01/24/4939...  \n",
              "40192  https://www.gazeta.ru/business/2012/01/19/3967...  "
            ],
            "text/html": [
              "\n",
              "  <div id=\"df-8f939725-9201-4ae2-94cf-50e9822e7d5c\">\n",
              "    <div class=\"colab-df-container\">\n",
              "      <div>\n",
              "<style scoped>\n",
              "    .dataframe tbody tr th:only-of-type {\n",
              "        vertical-align: middle;\n",
              "    }\n",
              "\n",
              "    .dataframe tbody tr th {\n",
              "        vertical-align: top;\n",
              "    }\n",
              "\n",
              "    .dataframe thead th {\n",
              "        text-align: right;\n",
              "    }\n",
              "</style>\n",
              "<table border=\"1\" class=\"dataframe\">\n",
              "  <thead>\n",
              "    <tr style=\"text-align: right;\">\n",
              "      <th></th>\n",
              "      <th>date</th>\n",
              "      <th>title</th>\n",
              "      <th>summary</th>\n",
              "      <th>text</th>\n",
              "      <th>url</th>\n",
              "    </tr>\n",
              "  </thead>\n",
              "  <tbody>\n",
              "    <tr>\n",
              "      <th>18448</th>\n",
              "      <td>2011-04-09 12:17:00</td>\n",
              "      <td>Android расправляет плечи</td>\n",
              "      <td>Рынок смартфонов увеличится на 58% в этом году...</td>\n",
              "      <td>В 2011 году в мире будет продано 468 млн смарт...</td>\n",
              "      <td>https://www.gazeta.ru/business/2011/04/08/3579...</td>\n",
              "    </tr>\n",
              "    <tr>\n",
              "      <th>1</th>\n",
              "      <td>2013-01-24 18:20:09</td>\n",
              "      <td>Google закончил поиск</td>\n",
              "      <td>Юлия Соловьева, экс-директор холдинга «Профмед...</td>\n",
              "      <td>Российское подразделение интернет-корпорации G...</td>\n",
              "      <td>https://www.gazeta.ru/business/2013/01/24/4939...</td>\n",
              "    </tr>\n",
              "    <tr>\n",
              "      <th>40192</th>\n",
              "      <td>2012-01-19 12:30:33</td>\n",
              "      <td>Клуб инсайдерской торговли</td>\n",
              "      <td>В США выявлено крупнейшее мошенничество, совер...</td>\n",
              "      <td>Комиссия по ценным бумагам США, ФБР и прокурат...</td>\n",
              "      <td>https://www.gazeta.ru/business/2012/01/19/3967...</td>\n",
              "    </tr>\n",
              "  </tbody>\n",
              "</table>\n",
              "</div>\n",
              "      <button class=\"colab-df-convert\" onclick=\"convertToInteractive('df-8f939725-9201-4ae2-94cf-50e9822e7d5c')\"\n",
              "              title=\"Convert this dataframe to an interactive table.\"\n",
              "              style=\"display:none;\">\n",
              "        \n",
              "  <svg xmlns=\"http://www.w3.org/2000/svg\" height=\"24px\"viewBox=\"0 0 24 24\"\n",
              "       width=\"24px\">\n",
              "    <path d=\"M0 0h24v24H0V0z\" fill=\"none\"/>\n",
              "    <path d=\"M18.56 5.44l.94 2.06.94-2.06 2.06-.94-2.06-.94-.94-2.06-.94 2.06-2.06.94zm-11 1L8.5 8.5l.94-2.06 2.06-.94-2.06-.94L8.5 2.5l-.94 2.06-2.06.94zm10 10l.94 2.06.94-2.06 2.06-.94-2.06-.94-.94-2.06-.94 2.06-2.06.94z\"/><path d=\"M17.41 7.96l-1.37-1.37c-.4-.4-.92-.59-1.43-.59-.52 0-1.04.2-1.43.59L10.3 9.45l-7.72 7.72c-.78.78-.78 2.05 0 2.83L4 21.41c.39.39.9.59 1.41.59.51 0 1.02-.2 1.41-.59l7.78-7.78 2.81-2.81c.8-.78.8-2.07 0-2.86zM5.41 20L4 18.59l7.72-7.72 1.47 1.35L5.41 20z\"/>\n",
              "  </svg>\n",
              "      </button>\n",
              "      \n",
              "  <style>\n",
              "    .colab-df-container {\n",
              "      display:flex;\n",
              "      flex-wrap:wrap;\n",
              "      gap: 12px;\n",
              "    }\n",
              "\n",
              "    .colab-df-convert {\n",
              "      background-color: #E8F0FE;\n",
              "      border: none;\n",
              "      border-radius: 50%;\n",
              "      cursor: pointer;\n",
              "      display: none;\n",
              "      fill: #1967D2;\n",
              "      height: 32px;\n",
              "      padding: 0 0 0 0;\n",
              "      width: 32px;\n",
              "    }\n",
              "\n",
              "    .colab-df-convert:hover {\n",
              "      background-color: #E2EBFA;\n",
              "      box-shadow: 0px 1px 2px rgba(60, 64, 67, 0.3), 0px 1px 3px 1px rgba(60, 64, 67, 0.15);\n",
              "      fill: #174EA6;\n",
              "    }\n",
              "\n",
              "    [theme=dark] .colab-df-convert {\n",
              "      background-color: #3B4455;\n",
              "      fill: #D2E3FC;\n",
              "    }\n",
              "\n",
              "    [theme=dark] .colab-df-convert:hover {\n",
              "      background-color: #434B5C;\n",
              "      box-shadow: 0px 1px 3px 1px rgba(0, 0, 0, 0.15);\n",
              "      filter: drop-shadow(0px 1px 2px rgba(0, 0, 0, 0.3));\n",
              "      fill: #FFFFFF;\n",
              "    }\n",
              "  </style>\n",
              "\n",
              "      <script>\n",
              "        const buttonEl =\n",
              "          document.querySelector('#df-8f939725-9201-4ae2-94cf-50e9822e7d5c button.colab-df-convert');\n",
              "        buttonEl.style.display =\n",
              "          google.colab.kernel.accessAllowed ? 'block' : 'none';\n",
              "\n",
              "        async function convertToInteractive(key) {\n",
              "          const element = document.querySelector('#df-8f939725-9201-4ae2-94cf-50e9822e7d5c');\n",
              "          const dataTable =\n",
              "            await google.colab.kernel.invokeFunction('convertToInteractive',\n",
              "                                                     [key], {});\n",
              "          if (!dataTable) return;\n",
              "\n",
              "          const docLinkHtml = 'Like what you see? Visit the ' +\n",
              "            '<a target=\"_blank\" href=https://colab.research.google.com/notebooks/data_table.ipynb>data table notebook</a>'\n",
              "            + ' to learn more about interactive tables.';\n",
              "          element.innerHTML = '';\n",
              "          dataTable['output_type'] = 'display_data';\n",
              "          await google.colab.output.renderOutput(dataTable, element);\n",
              "          const docLink = document.createElement('div');\n",
              "          docLink.innerHTML = docLinkHtml;\n",
              "          element.appendChild(docLink);\n",
              "        }\n",
              "      </script>\n",
              "    </div>\n",
              "  </div>\n",
              "  "
            ]
          },
          "metadata": {},
          "execution_count": 72
        }
      ]
    },
    {
      "cell_type": "markdown",
      "source": [
        "**Выводы:** \n",
        "- Просто берт из коробки работает намного лучше Word2Vec и FastText, темы действительно выделяются довольно хорошо.\n",
        "- Чтобы улучшить поиск, можно использовать различные способы вычисления меры близости, и даже надстраивать отдельные сети для ее определения. Также можно дообучить берт под конкретную задачу или датасет."
      ],
      "metadata": {
        "id": "FAkssZ5vLwuK"
      }
    }
  ]
}