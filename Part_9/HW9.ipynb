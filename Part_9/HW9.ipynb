{
  "nbformat": 4,
  "nbformat_minor": 0,
  "metadata": {
    "colab": {
      "provenance": [],
      "collapsed_sections": []
    },
    "kernelspec": {
      "name": "python3",
      "display_name": "Python 3"
    },
    "language_info": {
      "name": "python"
    },
    "accelerator": "GPU",
    "gpuClass": "standard"
  },
  "cells": [
    {
      "cell_type": "markdown",
      "source": [
        "# Урок 9. Языковое моделирование\n",
        "## Задание\n",
        "Разобраться с моделькой генерации текста, собрать самим или взять датасет с вебинара и обучить генератор текстов"
      ],
      "metadata": {
        "id": "V6wzIT2kjdvx"
      }
    },
    {
      "cell_type": "code",
      "source": [
        "import tensorflow as tf\n",
        "\n",
        "import numpy as np\n",
        "import os\n",
        "import time"
      ],
      "metadata": {
        "id": "a1BNIi6yjsoi"
      },
      "execution_count": 1,
      "outputs": []
    },
    {
      "cell_type": "code",
      "source": [
        "path_to_file = 'mcyri.txt'"
      ],
      "metadata": {
        "id": "ytR886_9j0AT"
      },
      "execution_count": 2,
      "outputs": []
    },
    {
      "cell_type": "code",
      "source": [
        "text = open(path_to_file, 'rb').read().decode(encoding='utf-8')\n",
        "# Delete Unicode spescial symbol \\ufeff\n",
        "text = text.replace('\\ufeff', '')\n",
        "# length of text is the number of characters in it\n",
        "print('Length of text: {} characters'.format(len(text)))"
      ],
      "metadata": {
        "colab": {
          "base_uri": "https://localhost:8080/"
        },
        "id": "53gpFOjdkCDz",
        "outputId": "89377e06-d93d-4ef9-e0af-ebfd7b48f25d"
      },
      "execution_count": 3,
      "outputs": [
        {
          "output_type": "stream",
          "name": "stdout",
          "text": [
            "Length of text: 24683 characters\n"
          ]
        }
      ]
    },
    {
      "cell_type": "code",
      "source": [
        "print(text[:500])"
      ],
      "metadata": {
        "colab": {
          "base_uri": "https://localhost:8080/"
        },
        "id": "4vvlJ7RHkG4V",
        "outputId": "50e56952-3216-4d1f-afcd-4d5fab223a2b"
      },
      "execution_count": 4,
      "outputs": [
        {
          "output_type": "stream",
          "name": "stdout",
          "text": [
            "Михаил Юрьевич Лермонтов \r\n",
            "Мцыри\r\n",
            "     \r\n",
            "Библиотека школьника – \r\n",
            "     \r\n",
            "    Мцыри – на грузинском языке значит «неслужащий монах», нечто вроде «послушника». (Прим. Лермонтова.)\r\n",
            "    \r\n",
            "     \r\n",
            "    Вкушая, вкусих мало меда, и се аз умираю.\r\n",
            "    1-я Книга Царств\r\n",
            "     \r\n",
            "1\r\n",
            "     \r\n",
            "     Немного лет тому назад,\r\n",
            "     Там, где, сливаяся, шумят,\r\n",
            "     Обнявшись, будто две сестры,\r\n",
            "     Струи Арагвы и Куры,\r\n",
            "     Был монастырь. Из-за горы\r\n",
            "     И нынче видит пешеход\r\n",
            "     Столбы обрушенных ворот,\r\n",
            "     И\n"
          ]
        }
      ]
    },
    {
      "cell_type": "code",
      "source": [
        "text = text + text"
      ],
      "metadata": {
        "id": "uVJRjnTWkojh"
      },
      "execution_count": 5,
      "outputs": []
    },
    {
      "cell_type": "code",
      "source": [
        "# The unique characters in the file\n",
        "vocab = sorted(set(text))\n",
        "print('{} unique characters'.format(len(vocab)))"
      ],
      "metadata": {
        "colab": {
          "base_uri": "https://localhost:8080/"
        },
        "id": "yIZHSLBakye7",
        "outputId": "034a4468-3fdb-4a3f-811c-ccd5cccbed44"
      },
      "execution_count": 6,
      "outputs": [
        {
          "output_type": "stream",
          "name": "stdout",
          "text": [
            "85 unique characters\n"
          ]
        }
      ]
    },
    {
      "cell_type": "code",
      "source": [
        "# Creating a mapping from unique characters to indices\n",
        "char2idx = {u:i for i, u in enumerate(vocab)}\n",
        "idx2char = np.array(vocab)\n",
        "\n",
        "text_as_int = np.array([char2idx[c] for c in text])"
      ],
      "metadata": {
        "id": "nwQjhg5rk1xO"
      },
      "execution_count": 7,
      "outputs": []
    },
    {
      "cell_type": "code",
      "source": [
        "text_as_int, text[:2000], len(text_as_int), len(text)"
      ],
      "metadata": {
        "colab": {
          "base_uri": "https://localhost:8080/"
        },
        "id": "_bGQs0nbk6FE",
        "outputId": "538b4eda-1c38-4d19-a7cd-c53cb3459f6a"
      },
      "execution_count": 8,
      "outputs": [
        {
          "output_type": "execute_result",
          "data": {
            "text/plain": [
              "(array([37, 59, 72, ..., 19,  1,  0]),\n",
              " 'Михаил Юрьевич Лермонтов \\r\\nМцыри\\r\\n     \\r\\nБиблиотека школьника – \\r\\n     \\r\\n    Мцыри – на грузинском языке значит «неслужащий монах», нечто вроде «послушника». (Прим. Лермонтова.)\\r\\n    \\r\\n     \\r\\n    Вкушая, вкусих мало меда, и се аз умираю.\\r\\n    1-я Книга Царств\\r\\n     \\r\\n1\\r\\n     \\r\\n     Немного лет тому назад,\\r\\n     Там, где, сливаяся, шумят,\\r\\n     Обнявшись, будто две сестры,\\r\\n     Струи Арагвы и Куры,\\r\\n     Был монастырь. Из-за горы\\r\\n     И нынче видит пешеход\\r\\n     Столбы обрушенных ворот,\\r\\n     И башни, и церковный свод;\\r\\n     Но не курится уж под ним\\r\\n     Кадильниц благовонный дым,\\r\\n     Не слышно пенье в поздний час\\r\\n     Молящих иноков за нас.\\r\\n     Теперь один старик седой,\\r\\n     Развалин страж полуживой,\\r\\n     Людьми и смертию забыт,\\r\\n     Сметает пыль с могильных плит,\\r\\n     Которых надпись говорит\\r\\n     О славе прошлой – и о том,\\r\\n     Как, удручен своим венцом,\\r\\n     Такой-то царь, в такой-то год,\\r\\n     Вручал России свой народ.\\r\\n     \\r\\n     \\r\\n* * *\\r\\n\\r\\n     И божья благодать сошла\\r\\n     На Грузию! Она цвела\\r\\n     С тех пор в тени своих садов,\\r\\n     Не опасаяся врагов,\\r\\n     3а гранью дружеских штыков.\\r\\n     \\r\\n2\\r\\n     \\r\\n     Однажды русский генерал\\r\\n     Из гор к Тифлису проезжал;\\r\\n     Ребенка пленного он вез.\\r\\n     Тот занемог, не перенес\\r\\n     Трудов далекого пути;\\r\\n     Он был, казалось, лет шести,\\r\\n     Как серна гор, пуглив и дик\\r\\n     И слаб и гибок, как тростник.\\r\\n     Но в нем мучительный недуг\\r\\n     Развил тогда могучий дух\\r\\n     Его отцов. Без жалоб он\\r\\n     Томился, даже слабый стон\\r\\n     Из детских губ не вылетал,\\r\\n     Он знаком пищу отвергал\\r\\n     И тихо, гордо умирал.\\r\\n     Из жалости один монах\\r\\n     Больного призрел, и в стенах\\r\\n     Хранительных остался он,\\r\\n     Искусством дружеским спасен.\\r\\n     Но, чужд ребяческих утех,\\r\\n     Сначала бегал он от всех,\\r\\n     Бродил безмолвен, одинок,\\r\\n     Смотрел, вздыхая, на восток,\\r\\n     Гоним неясною тоской\\r\\n     По стороне своей родной.\\r\\n     Но после к плену он привык,\\r\\n     Стал понимать чужой язык',\n",
              " 49366,\n",
              " 49366)"
            ]
          },
          "metadata": {},
          "execution_count": 8
        }
      ]
    },
    {
      "cell_type": "code",
      "source": [
        "# The maximum length sentence you want for a single input in characters\n",
        "seq_length = 100\n",
        "examples_per_epoch = len(text)//(seq_length+1)\n",
        "\n",
        "# Create training examples / targets\n",
        "char_dataset = tf.data.Dataset.from_tensor_slices(text_as_int)\n",
        "\n",
        "for i in char_dataset.take(5):\n",
        "    print(idx2char[i.numpy()])"
      ],
      "metadata": {
        "colab": {
          "base_uri": "https://localhost:8080/"
        },
        "id": "PI1MdzOPlGLp",
        "outputId": "083b8964-5828-4bd3-fa8d-df8ad1b92ac2"
      },
      "execution_count": 9,
      "outputs": [
        {
          "output_type": "stream",
          "name": "stdout",
          "text": [
            "М\n",
            "и\n",
            "х\n",
            "а\n",
            "и\n"
          ]
        }
      ]
    },
    {
      "cell_type": "code",
      "source": [
        "sequences = char_dataset.batch(seq_length+1, drop_remainder=True)\n",
        "\n",
        "for item in sequences.take(5):\n",
        "    print(repr(''.join(idx2char[item.numpy()])))"
      ],
      "metadata": {
        "colab": {
          "base_uri": "https://localhost:8080/"
        },
        "id": "y1bYtb-wmOSh",
        "outputId": "80b61f27-2c77-475b-d434-7578c04ff7a2"
      },
      "execution_count": 10,
      "outputs": [
        {
          "output_type": "stream",
          "name": "stdout",
          "text": [
            "'Михаил Юрьевич Лермонтов \\r\\nМцыри\\r\\n     \\r\\nБиблиотека школьника – \\r\\n     \\r\\n    Мцыри – на грузинском яз'\n",
            "'ыке значит «неслужащий монах», нечто вроде «послушника». (Прим. Лермонтова.)\\r\\n    \\r\\n     \\r\\n    Вкушая'\n",
            "', вкусих мало меда, и се аз умираю.\\r\\n    1-я Книга Царств\\r\\n     \\r\\n1\\r\\n     \\r\\n     Немного лет тому наз'\n",
            "'ад,\\r\\n     Там, где, сливаяся, шумят,\\r\\n     Обнявшись, будто две сестры,\\r\\n     Струи Арагвы и Куры,\\r\\n '\n",
            "'    Был монастырь. Из-за горы\\r\\n     И нынче видит пешеход\\r\\n     Столбы обрушенных ворот,\\r\\n     И башн'\n"
          ]
        }
      ]
    },
    {
      "cell_type": "code",
      "source": [
        "def split_input_target(chunk):\n",
        "    input_text = chunk[:-1]\n",
        "    target_text = chunk[1:]\n",
        "    return input_text, target_text\n",
        "\n",
        "dataset = sequences.map(split_input_target)"
      ],
      "metadata": {
        "id": "WaTx6jYfmUtn"
      },
      "execution_count": 11,
      "outputs": []
    },
    {
      "cell_type": "code",
      "source": [
        "for input_example, target_example in  dataset.take(1):\n",
        "    print('Input data: ', repr(''.join(idx2char[input_example.numpy()])))\n",
        "    print('Target data:', repr(''.join(idx2char[target_example.numpy()])))"
      ],
      "metadata": {
        "colab": {
          "base_uri": "https://localhost:8080/"
        },
        "id": "T9eb2PhZmeKs",
        "outputId": "e64b5076-631e-4f05-edcd-86f5aa250f82"
      },
      "execution_count": 12,
      "outputs": [
        {
          "output_type": "stream",
          "name": "stdout",
          "text": [
            "Input data:  'Михаил Юрьевич Лермонтов \\r\\nМцыри\\r\\n     \\r\\nБиблиотека школьника – \\r\\n     \\r\\n    Мцыри – на грузинском я'\n",
            "Target data: 'ихаил Юрьевич Лермонтов \\r\\nМцыри\\r\\n     \\r\\nБиблиотека школьника – \\r\\n     \\r\\n    Мцыри – на грузинском яз'\n"
          ]
        }
      ]
    },
    {
      "cell_type": "code",
      "source": [
        "# Batch size\n",
        "BATCH_SIZE = 64\n",
        "\n",
        "BUFFER_SIZE = 10000\n",
        "\n",
        "dataset = dataset.shuffle(BUFFER_SIZE).batch(BATCH_SIZE, drop_remainder=True)\n",
        "\n",
        "dataset"
      ],
      "metadata": {
        "colab": {
          "base_uri": "https://localhost:8080/"
        },
        "id": "_HPK0vwQmhX9",
        "outputId": "a5574aab-000b-4c8a-f47d-b69b5a004404"
      },
      "execution_count": 13,
      "outputs": [
        {
          "output_type": "execute_result",
          "data": {
            "text/plain": [
              "<BatchDataset element_spec=(TensorSpec(shape=(64, 100), dtype=tf.int64, name=None), TensorSpec(shape=(64, 100), dtype=tf.int64, name=None))>"
            ]
          },
          "metadata": {},
          "execution_count": 13
        }
      ]
    },
    {
      "cell_type": "code",
      "source": [
        "# Length of the vocabulary in chars\n",
        "vocab_size = len(vocab)\n",
        "\n",
        "# The embedding dimension\n",
        "embedding_dim = 256\n",
        "\n",
        "# Number of RNN units\n",
        "rnn_units = 1024"
      ],
      "metadata": {
        "id": "Jy6ahPPNmnCt"
      },
      "execution_count": 14,
      "outputs": []
    },
    {
      "cell_type": "code",
      "source": [
        "def build_model(vocab_size, embedding_dim, rnn_units, batch_size):\n",
        "    model = tf.keras.Sequential([\n",
        "        tf.keras.layers.Embedding(vocab_size, embedding_dim,\n",
        "                                  batch_input_shape=[batch_size, None]),\n",
        "                                 \n",
        "        tf.keras.layers.LSTM(rnn_units,\n",
        "                            return_sequences=True,\n",
        "                            stateful=True,\n",
        "                            recurrent_initializer='glorot_uniform'),\n",
        "\n",
        "        tf.keras.layers.LSTM(rnn_units,\n",
        "                            return_sequences=True,\n",
        "                            stateful=True,\n",
        "                            recurrent_initializer='glorot_uniform'),\n",
        "\n",
        "         tf.keras.layers.LSTM(rnn_units,\n",
        "                            return_sequences=True,\n",
        "                            stateful=True,\n",
        "                            recurrent_initializer='glorot_uniform'),\n",
        "        \n",
        "        tf.keras.layers.LSTM(rnn_units,\n",
        "                            return_sequences=True,\n",
        "                            stateful=True,\n",
        "                            recurrent_initializer='glorot_uniform'),\n",
        "                                   \n",
        "        tf.keras.layers.Dense(vocab_size)\n",
        "    ])\n",
        "    return model"
      ],
      "metadata": {
        "id": "HaIhlwSjmqPc"
      },
      "execution_count": 15,
      "outputs": []
    },
    {
      "cell_type": "code",
      "source": [
        "model = build_model(\n",
        "    vocab_size=len(vocab),\n",
        "    embedding_dim=embedding_dim,\n",
        "    rnn_units=rnn_units,\n",
        "    batch_size=BATCH_SIZE)"
      ],
      "metadata": {
        "id": "UVGzXqKBIJdx"
      },
      "execution_count": 16,
      "outputs": []
    },
    {
      "cell_type": "code",
      "source": [
        "for input_example_batch, target_example_batch in dataset.take(1):\n",
        "    example_batch_predictions = model(input_example_batch)\n",
        "    print(example_batch_predictions.shape, \"# (batch_size, sequence_length, vocab_size)\")"
      ],
      "metadata": {
        "colab": {
          "base_uri": "https://localhost:8080/"
        },
        "id": "Yb0KKcVHIQOO",
        "outputId": "28efd289-8894-4987-8eca-832bed75c187"
      },
      "execution_count": 17,
      "outputs": [
        {
          "output_type": "stream",
          "name": "stdout",
          "text": [
            "(64, 100, 85) # (batch_size, sequence_length, vocab_size)\n"
          ]
        }
      ]
    },
    {
      "cell_type": "code",
      "source": [
        "model.summary()"
      ],
      "metadata": {
        "colab": {
          "base_uri": "https://localhost:8080/"
        },
        "id": "CCo_frzxITpe",
        "outputId": "f149eb07-b191-4ddc-8d3e-c25987ee204c"
      },
      "execution_count": 18,
      "outputs": [
        {
          "output_type": "stream",
          "name": "stdout",
          "text": [
            "Model: \"sequential\"\n",
            "_________________________________________________________________\n",
            " Layer (type)                Output Shape              Param #   \n",
            "=================================================================\n",
            " embedding (Embedding)       (64, None, 256)           21760     \n",
            "                                                                 \n",
            " lstm (LSTM)                 (64, None, 1024)          5246976   \n",
            "                                                                 \n",
            " lstm_1 (LSTM)               (64, None, 1024)          8392704   \n",
            "                                                                 \n",
            " lstm_2 (LSTM)               (64, None, 1024)          8392704   \n",
            "                                                                 \n",
            " lstm_3 (LSTM)               (64, None, 1024)          8392704   \n",
            "                                                                 \n",
            " dense (Dense)               (64, None, 85)            87125     \n",
            "                                                                 \n",
            "=================================================================\n",
            "Total params: 30,533,973\n",
            "Trainable params: 30,533,973\n",
            "Non-trainable params: 0\n",
            "_________________________________________________________________\n"
          ]
        }
      ]
    },
    {
      "cell_type": "code",
      "source": [
        "example_batch_predictions[0]"
      ],
      "metadata": {
        "colab": {
          "base_uri": "https://localhost:8080/"
        },
        "id": "Q3Sc_ZZ-Idk8",
        "outputId": "1ed44c70-a060-4c5e-b343-2ca1bf614a93"
      },
      "execution_count": 19,
      "outputs": [
        {
          "output_type": "execute_result",
          "data": {
            "text/plain": [
              "<tf.Tensor: shape=(100, 85), dtype=float32, numpy=\n",
              "array([[ 3.11225722e-06, -1.82862314e-05, -1.59145316e-06, ...,\n",
              "        -1.54414720e-05, -1.43812485e-06,  1.40614375e-05],\n",
              "       [ 3.31299816e-06, -4.42887758e-05, -5.53134396e-06, ...,\n",
              "        -3.69139998e-05, -2.29976176e-05,  4.45472251e-05],\n",
              "       [ 3.87774708e-06, -9.59575991e-05, -7.75303670e-06, ...,\n",
              "        -7.43976707e-05, -6.45726104e-05,  9.57475859e-05],\n",
              "       ...,\n",
              "       [ 4.74811415e-04, -2.94006267e-03,  5.58431086e-04, ...,\n",
              "        -2.10743444e-03, -1.95333664e-03,  3.90694058e-03],\n",
              "       [ 7.34508678e-04, -2.98469630e-03,  7.67683028e-04, ...,\n",
              "        -2.24083173e-03, -1.84607203e-03,  3.88215156e-03],\n",
              "       [ 9.62522579e-04, -2.97567854e-03,  9.44981643e-04, ...,\n",
              "        -2.34046322e-03, -1.74437137e-03,  3.85962473e-03]], dtype=float32)>"
            ]
          },
          "metadata": {},
          "execution_count": 19
        }
      ]
    },
    {
      "cell_type": "code",
      "source": [
        "sampled_indices = tf.random.categorical(example_batch_predictions[0], num_samples=1)\n",
        "sampled_indices = tf.squeeze(sampled_indices,axis=-1).numpy()"
      ],
      "metadata": {
        "id": "LArorNHLInq6"
      },
      "execution_count": 20,
      "outputs": []
    },
    {
      "cell_type": "code",
      "source": [
        "print(\"Input: \\n\", repr(\"\".join(idx2char[input_example_batch[0]])))\n",
        "print()\n",
        "print(\"Next Char Predictions: \\n\", repr(\"\".join(idx2char[sampled_indices ])))"
      ],
      "metadata": {
        "colab": {
          "base_uri": "https://localhost:8080/"
        },
        "id": "nOmNC8ZyIuNu",
        "outputId": "b79c539e-bde1-4aef-ffc5-bd0629ecd61a"
      },
      "execution_count": 21,
      "outputs": [
        {
          "output_type": "stream",
          "name": "stdout",
          "text": [
            "Input: \n",
            " 'тотчас!\\r\\n     Он с детских глаз уже не раз\\r\\n     Сгонял виденья снов живых\\r\\n     Про милых ближних и'\n",
            "\n",
            "Next Char Predictions: \n",
            " 'ЕьУя,Зг)роА0и8ЛЯ(е\\xa04!я«!?еьУь*Г\\xa0м\\r7Цч \\n\\nл0тмТ\\xa0ГйЮкХГВжвзУ8(АбеЦ\\rеКО7ыЗТг6?н,Ш,\\xa0,\\r99.\\xa0ШГЯтжХ…щуНН7М*а'\n"
          ]
        }
      ]
    },
    {
      "cell_type": "code",
      "source": [
        "def loss(labels, logits):\n",
        "    return tf.keras.losses.sparse_categorical_crossentropy(labels, logits, from_logits=True)\n",
        "\n",
        "example_batch_loss = loss(target_example_batch, example_batch_predictions)\n",
        "print(\"Prediction shape: \", example_batch_predictions.shape, \" # (batch_size, sequence_length, vocab_size)\")\n",
        "print(\"scalar_loss:      \", example_batch_loss.numpy().mean())"
      ],
      "metadata": {
        "colab": {
          "base_uri": "https://localhost:8080/"
        },
        "id": "MxFAY98WIy2K",
        "outputId": "172b8281-b88f-4ff8-d492-0302626c4a73"
      },
      "execution_count": 22,
      "outputs": [
        {
          "output_type": "stream",
          "name": "stdout",
          "text": [
            "Prediction shape:  (64, 100, 85)  # (batch_size, sequence_length, vocab_size)\n",
            "scalar_loss:       4.442816\n"
          ]
        }
      ]
    },
    {
      "cell_type": "code",
      "source": [
        "model.compile(optimizer='adam', loss=loss)"
      ],
      "metadata": {
        "id": "IzOGWWHXI-u2"
      },
      "execution_count": 23,
      "outputs": []
    },
    {
      "cell_type": "code",
      "source": [
        "!rm -rf ./training_checkpoints"
      ],
      "metadata": {
        "id": "4pY80WpHJDhs"
      },
      "execution_count": 28,
      "outputs": []
    },
    {
      "cell_type": "code",
      "source": [
        "!ls ./training_checkpoints"
      ],
      "metadata": {
        "colab": {
          "base_uri": "https://localhost:8080/"
        },
        "id": "36FUIiKyJGhM",
        "outputId": "7ec35141-e014-4ccb-ab8d-115d5445fb0f"
      },
      "execution_count": 29,
      "outputs": [
        {
          "output_type": "stream",
          "name": "stdout",
          "text": [
            "ls: cannot access './training_checkpoints': No such file or directory\n"
          ]
        }
      ]
    },
    {
      "cell_type": "code",
      "source": [
        "# Directory where the checkpoints will be saved\n",
        "checkpoint_dir = './training_checkpoints'\n",
        "# Name of the checkpoint files\n",
        "checkpoint_prefix = os.path.join(checkpoint_dir, \"ckpt_{epoch}\")\n",
        "\n",
        "checkpoint_callback = tf.keras.callbacks.ModelCheckpoint(\n",
        "    filepath=checkpoint_prefix,\n",
        "    save_freq=7*10,\n",
        "    save_weights_only=True)"
      ],
      "metadata": {
        "id": "RgKMpH10JIyD"
      },
      "execution_count": 30,
      "outputs": []
    },
    {
      "cell_type": "code",
      "source": [
        "EPOCHS = 100\n",
        "history = model.fit(dataset, epochs=EPOCHS, callbacks=[checkpoint_callback])"
      ],
      "metadata": {
        "colab": {
          "base_uri": "https://localhost:8080/"
        },
        "id": "wlGVghMMKGnV",
        "outputId": "20d0c9a5-bbb6-4c24-8ead-e50763cfae8f"
      },
      "execution_count": 32,
      "outputs": [
        {
          "output_type": "stream",
          "name": "stdout",
          "text": [
            "Epoch 1/100\n",
            "7/7 [==============================] - 3s 353ms/step - loss: 0.0908\n",
            "Epoch 2/100\n",
            "7/7 [==============================] - 3s 352ms/step - loss: 0.0949\n",
            "Epoch 3/100\n",
            "7/7 [==============================] - 3s 359ms/step - loss: 0.0924\n",
            "Epoch 4/100\n",
            "7/7 [==============================] - 3s 360ms/step - loss: 0.0913\n",
            "Epoch 5/100\n",
            "7/7 [==============================] - 3s 359ms/step - loss: 0.0921\n",
            "Epoch 6/100\n",
            "7/7 [==============================] - 3s 365ms/step - loss: 0.0923\n",
            "Epoch 7/100\n",
            "7/7 [==============================] - 3s 369ms/step - loss: 0.0845\n",
            "Epoch 8/100\n",
            "7/7 [==============================] - 3s 370ms/step - loss: 0.0873\n",
            "Epoch 9/100\n",
            "7/7 [==============================] - 3s 371ms/step - loss: 0.0870\n",
            "Epoch 10/100\n",
            "7/7 [==============================] - 4s 531ms/step - loss: 0.0916\n",
            "Epoch 11/100\n",
            "7/7 [==============================] - 3s 374ms/step - loss: 0.0867\n",
            "Epoch 12/100\n",
            "7/7 [==============================] - 3s 373ms/step - loss: 0.0871\n",
            "Epoch 13/100\n",
            "7/7 [==============================] - 3s 374ms/step - loss: 0.0866\n",
            "Epoch 14/100\n",
            "7/7 [==============================] - 3s 377ms/step - loss: 0.0843\n",
            "Epoch 15/100\n",
            "7/7 [==============================] - 3s 376ms/step - loss: 0.0872\n",
            "Epoch 16/100\n",
            "7/7 [==============================] - 3s 375ms/step - loss: 0.0825\n",
            "Epoch 17/100\n",
            "7/7 [==============================] - 3s 381ms/step - loss: 0.0840\n",
            "Epoch 18/100\n",
            "7/7 [==============================] - 3s 374ms/step - loss: 0.0863\n",
            "Epoch 19/100\n",
            "7/7 [==============================] - 3s 374ms/step - loss: 0.0872\n",
            "Epoch 20/100\n",
            "7/7 [==============================] - 4s 647ms/step - loss: 0.0857\n",
            "Epoch 21/100\n",
            "7/7 [==============================] - 3s 364ms/step - loss: 0.0835\n",
            "Epoch 22/100\n",
            "7/7 [==============================] - 3s 361ms/step - loss: 0.0832\n",
            "Epoch 23/100\n",
            "7/7 [==============================] - 3s 364ms/step - loss: 0.0861\n",
            "Epoch 24/100\n",
            "7/7 [==============================] - 3s 360ms/step - loss: 0.0841\n",
            "Epoch 25/100\n",
            "7/7 [==============================] - 3s 365ms/step - loss: 0.0826\n",
            "Epoch 26/100\n",
            "7/7 [==============================] - 3s 362ms/step - loss: 0.0855\n",
            "Epoch 27/100\n",
            "7/7 [==============================] - 3s 365ms/step - loss: 0.0844\n",
            "Epoch 28/100\n",
            "7/7 [==============================] - 3s 364ms/step - loss: 0.0844\n",
            "Epoch 29/100\n",
            "7/7 [==============================] - 3s 369ms/step - loss: 0.0799\n",
            "Epoch 30/100\n",
            "7/7 [==============================] - 4s 536ms/step - loss: 0.0847\n",
            "Epoch 31/100\n",
            "7/7 [==============================] - 3s 365ms/step - loss: 0.0820\n",
            "Epoch 32/100\n",
            "7/7 [==============================] - 3s 369ms/step - loss: 0.0818\n",
            "Epoch 33/100\n",
            "7/7 [==============================] - 3s 370ms/step - loss: 0.0835\n",
            "Epoch 34/100\n",
            "7/7 [==============================] - 3s 370ms/step - loss: 0.0823\n",
            "Epoch 35/100\n",
            "7/7 [==============================] - 3s 374ms/step - loss: 0.0843\n",
            "Epoch 36/100\n",
            "7/7 [==============================] - 3s 373ms/step - loss: 0.0802\n",
            "Epoch 37/100\n",
            "7/7 [==============================] - 3s 369ms/step - loss: 0.0784\n",
            "Epoch 38/100\n",
            "7/7 [==============================] - 3s 370ms/step - loss: 0.0808\n",
            "Epoch 39/100\n",
            "7/7 [==============================] - 3s 372ms/step - loss: 0.0812\n",
            "Epoch 40/100\n",
            "7/7 [==============================] - 4s 527ms/step - loss: 0.0810\n",
            "Epoch 41/100\n",
            "7/7 [==============================] - 3s 366ms/step - loss: 0.0803\n",
            "Epoch 42/100\n",
            "7/7 [==============================] - 3s 368ms/step - loss: 0.0838\n",
            "Epoch 43/100\n",
            "7/7 [==============================] - 3s 365ms/step - loss: 0.0823\n",
            "Epoch 44/100\n",
            "7/7 [==============================] - 3s 368ms/step - loss: 0.0835\n",
            "Epoch 45/100\n",
            "7/7 [==============================] - 3s 366ms/step - loss: 0.0790\n",
            "Epoch 46/100\n",
            "7/7 [==============================] - 3s 368ms/step - loss: 0.0772\n",
            "Epoch 47/100\n",
            "7/7 [==============================] - 3s 366ms/step - loss: 0.0802\n",
            "Epoch 48/100\n",
            "7/7 [==============================] - 3s 368ms/step - loss: 0.0813\n",
            "Epoch 49/100\n",
            "7/7 [==============================] - 3s 369ms/step - loss: 0.0796\n",
            "Epoch 50/100\n",
            "7/7 [==============================] - 4s 535ms/step - loss: 0.0773\n",
            "Epoch 51/100\n",
            "7/7 [==============================] - 3s 367ms/step - loss: 0.0767\n",
            "Epoch 52/100\n",
            "7/7 [==============================] - 3s 370ms/step - loss: 0.0827\n",
            "Epoch 53/100\n",
            "7/7 [==============================] - 3s 370ms/step - loss: 0.0770\n",
            "Epoch 54/100\n",
            "7/7 [==============================] - 3s 373ms/step - loss: 0.0758\n",
            "Epoch 55/100\n",
            "7/7 [==============================] - 3s 367ms/step - loss: 0.0787\n",
            "Epoch 56/100\n",
            "7/7 [==============================] - 3s 370ms/step - loss: 0.0767\n",
            "Epoch 57/100\n",
            "7/7 [==============================] - 3s 370ms/step - loss: 0.0786\n",
            "Epoch 58/100\n",
            "7/7 [==============================] - 3s 366ms/step - loss: 0.0775\n",
            "Epoch 59/100\n",
            "7/7 [==============================] - 3s 368ms/step - loss: 0.0781\n",
            "Epoch 60/100\n",
            "7/7 [==============================] - 4s 518ms/step - loss: 0.0760\n",
            "Epoch 61/100\n",
            "7/7 [==============================] - 3s 370ms/step - loss: 0.0740\n",
            "Epoch 62/100\n",
            "7/7 [==============================] - 3s 366ms/step - loss: 0.0756\n",
            "Epoch 63/100\n",
            "7/7 [==============================] - 3s 364ms/step - loss: 0.0772\n",
            "Epoch 64/100\n",
            "7/7 [==============================] - 3s 368ms/step - loss: 0.0750\n",
            "Epoch 65/100\n",
            "7/7 [==============================] - 3s 368ms/step - loss: 0.0733\n",
            "Epoch 66/100\n",
            "7/7 [==============================] - 3s 369ms/step - loss: 0.0765\n",
            "Epoch 67/100\n",
            "7/7 [==============================] - 3s 370ms/step - loss: 0.0737\n",
            "Epoch 68/100\n",
            "7/7 [==============================] - 3s 371ms/step - loss: 0.0762\n",
            "Epoch 69/100\n",
            "7/7 [==============================] - 3s 373ms/step - loss: 0.0729\n",
            "Epoch 70/100\n",
            "7/7 [==============================] - 4s 550ms/step - loss: 0.0740\n",
            "Epoch 71/100\n",
            "7/7 [==============================] - 3s 366ms/step - loss: 0.0742\n",
            "Epoch 72/100\n",
            "7/7 [==============================] - 3s 370ms/step - loss: 0.0748\n",
            "Epoch 73/100\n",
            "7/7 [==============================] - 3s 368ms/step - loss: 0.0745\n",
            "Epoch 74/100\n",
            "7/7 [==============================] - 3s 370ms/step - loss: 0.0707\n",
            "Epoch 75/100\n",
            "7/7 [==============================] - 3s 370ms/step - loss: 0.0739\n",
            "Epoch 76/100\n",
            "7/7 [==============================] - 3s 368ms/step - loss: 0.0734\n",
            "Epoch 77/100\n",
            "7/7 [==============================] - 3s 365ms/step - loss: 0.0757\n",
            "Epoch 78/100\n",
            "7/7 [==============================] - 3s 362ms/step - loss: 0.0716\n",
            "Epoch 79/100\n",
            "7/7 [==============================] - 3s 364ms/step - loss: 0.0719\n",
            "Epoch 80/100\n",
            "7/7 [==============================] - 4s 525ms/step - loss: 0.0748\n",
            "Epoch 81/100\n",
            "7/7 [==============================] - 3s 365ms/step - loss: 0.0751\n",
            "Epoch 82/100\n",
            "7/7 [==============================] - 3s 367ms/step - loss: 0.0730\n",
            "Epoch 83/100\n",
            "7/7 [==============================] - 3s 369ms/step - loss: 0.0723\n",
            "Epoch 84/100\n",
            "7/7 [==============================] - 3s 368ms/step - loss: 0.0713\n",
            "Epoch 85/100\n",
            "7/7 [==============================] - 3s 373ms/step - loss: 0.0731\n",
            "Epoch 86/100\n",
            "7/7 [==============================] - 3s 371ms/step - loss: 0.0739\n",
            "Epoch 87/100\n",
            "7/7 [==============================] - 3s 370ms/step - loss: 0.0729\n",
            "Epoch 88/100\n",
            "7/7 [==============================] - 3s 372ms/step - loss: 0.0696\n",
            "Epoch 89/100\n",
            "7/7 [==============================] - 3s 366ms/step - loss: 0.0715\n",
            "Epoch 90/100\n",
            "7/7 [==============================] - 4s 524ms/step - loss: 0.0717\n",
            "Epoch 91/100\n",
            "7/7 [==============================] - 3s 371ms/step - loss: 0.0716\n",
            "Epoch 92/100\n",
            "7/7 [==============================] - 3s 366ms/step - loss: 0.0710\n",
            "Epoch 93/100\n",
            "7/7 [==============================] - 3s 363ms/step - loss: 0.0716\n",
            "Epoch 94/100\n",
            "7/7 [==============================] - 3s 368ms/step - loss: 0.0707\n",
            "Epoch 95/100\n",
            "7/7 [==============================] - 3s 371ms/step - loss: 0.0721\n",
            "Epoch 96/100\n",
            "7/7 [==============================] - 3s 371ms/step - loss: 0.0725\n",
            "Epoch 97/100\n",
            "7/7 [==============================] - 3s 372ms/step - loss: 0.0705\n",
            "Epoch 98/100\n",
            "7/7 [==============================] - 3s 371ms/step - loss: 0.0734\n",
            "Epoch 99/100\n",
            "7/7 [==============================] - 3s 374ms/step - loss: 0.0682\n",
            "Epoch 100/100\n",
            "7/7 [==============================] - 4s 530ms/step - loss: 0.0716\n"
          ]
        }
      ]
    },
    {
      "cell_type": "code",
      "source": [
        "tf.train.latest_checkpoint(checkpoint_dir)"
      ],
      "metadata": {
        "colab": {
          "base_uri": "https://localhost:8080/",
          "height": 35
        },
        "id": "h1q8cN53KVoW",
        "outputId": "5d159fb3-b98c-4674-f4a6-6f24d233acc1"
      },
      "execution_count": 33,
      "outputs": [
        {
          "output_type": "execute_result",
          "data": {
            "text/plain": [
              "'./training_checkpoints/ckpt_100'"
            ],
            "application/vnd.google.colaboratory.intrinsic+json": {
              "type": "string"
            }
          },
          "metadata": {},
          "execution_count": 33
        }
      ]
    },
    {
      "cell_type": "code",
      "source": [
        "model = build_model(vocab_size, embedding_dim, rnn_units, batch_size=1)\n",
        "model.load_weights(tf.train.latest_checkpoint(checkpoint_dir))\n",
        "model.build(tf.TensorShape([1, None]))"
      ],
      "metadata": {
        "id": "vqdrgbPYQV-m"
      },
      "execution_count": 34,
      "outputs": []
    },
    {
      "cell_type": "code",
      "source": [
        "model.summary()"
      ],
      "metadata": {
        "colab": {
          "base_uri": "https://localhost:8080/"
        },
        "id": "JDdvmbuqQZ6Y",
        "outputId": "096eb5af-164d-46dc-8f33-2714e9217610"
      },
      "execution_count": 35,
      "outputs": [
        {
          "output_type": "stream",
          "name": "stdout",
          "text": [
            "Model: \"sequential_1\"\n",
            "_________________________________________________________________\n",
            " Layer (type)                Output Shape              Param #   \n",
            "=================================================================\n",
            " embedding_1 (Embedding)     (1, None, 256)            21760     \n",
            "                                                                 \n",
            " lstm_4 (LSTM)               (1, None, 1024)           5246976   \n",
            "                                                                 \n",
            " lstm_5 (LSTM)               (1, None, 1024)           8392704   \n",
            "                                                                 \n",
            " lstm_6 (LSTM)               (1, None, 1024)           8392704   \n",
            "                                                                 \n",
            " lstm_7 (LSTM)               (1, None, 1024)           8392704   \n",
            "                                                                 \n",
            " dense_1 (Dense)             (1, None, 85)             87125     \n",
            "                                                                 \n",
            "=================================================================\n",
            "Total params: 30,533,973\n",
            "Trainable params: 30,533,973\n",
            "Non-trainable params: 0\n",
            "_________________________________________________________________\n"
          ]
        }
      ]
    },
    {
      "cell_type": "code",
      "source": [
        "def generate_text(model, start_string, temperature=1, num_generate=500):\n",
        "    # Evaluation step (generating text using the learned model)\n",
        "\n",
        "    # Number of characters to generate\n",
        "    num_generate = num_generate\n",
        "\n",
        "    # Converting our start string to numbers (vectorizing)\n",
        "    input_eval = [char2idx[s] for s in start_string]\n",
        "    input_eval = tf.expand_dims(input_eval, 0)\n",
        "\n",
        "    # Empty string to store our results\n",
        "    text_generated = []\n",
        "\n",
        "    # Low temperature results in more predictable text.\n",
        "    # Higher temperature results in more surprising text.\n",
        "    # Experiment to find the best setting.\n",
        "    temperature = temperature\n",
        "\n",
        "    # Here batch size == 1\n",
        "    model.reset_states()\n",
        "    for i in range(num_generate):\n",
        "        predictions = model(input_eval)\n",
        "        predictions = tf.squeeze(predictions, 0)\n",
        "        # using a categorical distribution to predict the character returned by the model\n",
        "        predictions = predictions / temperature\n",
        "        predicted_id = tf.random.categorical(predictions, num_samples=1)[-1, 0].numpy()\n",
        "\n",
        "        # Pass the predicted character as the next input to the model\n",
        "        # along with the previous hidden state\n",
        "        input_eval = tf.expand_dims([predicted_id], 0)\n",
        "\n",
        "        text_generated.append(idx2char[predicted_id])\n",
        "\n",
        "    return (start_string + ''.join(text_generated))"
      ],
      "metadata": {
        "id": "Y1AwN3mXQczl"
      },
      "execution_count": 36,
      "outputs": []
    },
    {
      "cell_type": "markdown",
      "source": [
        "Продемонстрируем, как обучилась сеть. Возьмем достаточно большую температуру (подобрана эмпирически, при большей получается совсем чушь):"
      ],
      "metadata": {
        "id": "_20a4oa7ZzTD"
      }
    },
    {
      "cell_type": "code",
      "source": [
        "text_ = generate_text(model, start_string=u\"Прекрасны горы под луной \", temperature=1.3)\n",
        "print(text_)"
      ],
      "metadata": {
        "colab": {
          "base_uri": "https://localhost:8080/"
        },
        "id": "mVmoyLLVQ74Y",
        "outputId": "1780b492-91c6-4f07-daf7-cb77d1caafc2"
      },
      "execution_count": 85,
      "outputs": [
        {
          "output_type": "stream",
          "name": "stdout",
          "text": [
            "Прекрасны горы под луной дал кой, будто он\r\n",
            "     Лишь звуки дружеских имен\r\n",
            "     Произносить был приучен.\r\n",
            "     Простая песня то была,\r\n",
            "     Но в мысль она мне залегла,\r\n",
            "     И мн.\r\n",
            "     Глубонил воткнуть\r\n",
            "     И там два раза повернуть\r\n",
            "     Мое оружье… Он засыл,\r\n",
            "     Ких, нав? и скашал    Про легкий, бебеных коней,\r\n",
            "     Про битвы чудные меж скал,\r\n",
            "     Где всех один я побеждал!..\r\n",
            "   гво гораю небес\r\n",
            "     В, комля ды11\r\n",
            "     \r\n",
            "     Кругом меня цвел божий сад;\r\n",
            "     Растений радужный наряд\r\n",
            "     Хранил следы небесных \n"
          ]
        }
      ]
    },
    {
      "cell_type": "markdown",
      "source": [
        "Бебеные кони =) Отлично!\n",
        "\n",
        "Далее наиболее удачная температура для генерации - при ней модель соскакивает с одного зацикливание на другое, и иногда выдает чушь:"
      ],
      "metadata": {
        "id": "uGOL2YPVaO7f"
      }
    },
    {
      "cell_type": "code",
      "source": [
        "text_ = generate_text(model, start_string=u\"Прекрасны горы под луной \", temperature=1.1)\n",
        "print(text_)"
      ],
      "metadata": {
        "colab": {
          "base_uri": "https://localhost:8080/"
        },
        "id": "jIqzFtpnZme4",
        "outputId": "b33afaa9-4adc-4b2d-b2b9-4291d59e7fa5"
      },
      "execution_count": 86,
      "outputs": [
        {
          "output_type": "stream",
          "name": "stdout",
          "text": [
            "Прекрасны горы под луной дах, стачик слодил бежам и сиротой.\r\n",
            "     \r\n",
            "5\r\n",
            "     \r\n",
            "     Меня могила не страшит:\r\n",
            "     Там, говорят, страданье спит\r\n",
            "     В холодной вечной тишине;\r\n",
            "     Но с жизнью жаль расстатам стених мне было далеко!\r\n",
            "     Хотел я встать – пе ме     Узнать, для воли иль тюрьмы\r\n",
            "     Не этот свет родимся мы.\r\n",
            "     И в час ночной, ужасный час,\r\n",
            "     Когда гроза п   И жаждут встречи каждый миг;\r\n",
            "     Но дни бегут, бегут года –\r\n",
            "     Им не сойтиться никогда!\r\n",
            "     Я вител горные хребты,\r\n",
            "     Причудливые, как\n"
          ]
        }
      ]
    },
    {
      "cell_type": "markdown",
      "source": [
        "В этом тексте угадываются несколько реальных отрывков, соединенных неудачной генерацией.\n",
        "\n",
        "Далее ниже 0.9 модель скатывается в одинаковую генерацию большого длинного отрывка:"
      ],
      "metadata": {
        "id": "cYGYYdWobMLr"
      }
    },
    {
      "cell_type": "code",
      "source": [
        "text_ = generate_text(model, start_string=u\"Прекрасны горы под луной \", temperature=.1)\n",
        "print(text_)"
      ],
      "metadata": {
        "colab": {
          "base_uri": "https://localhost:8080/"
        },
        "id": "QySGv4r5Rxu7",
        "outputId": "40fc37b1-78f4-48ce-eead-0020396e607b"
      },
      "execution_count": 87,
      "outputs": [
        {
          "output_type": "stream",
          "name": "stdout",
          "text": [
            "Прекрасны горы под луной дад коста,\r\n",
            "     И толь в прокладных страных стенах\r\n",
            "     Душой дитя, судьбой монах.\r\n",
            "     Я никому не мог сказать\r\n",
            "     Священных слов «отец» и «мать».\r\n",
            "     Конечно, ты хотел, старик,\r\n",
            "     Чтоб я в обители отвык\r\n",
            "     От этих сладостных имен, –\r\n",
            "     Напрасно: звук их был рожден\r\n",
            "     Со мной. И видел у других\r\n",
            "     Отчизну, дом, друзей, родных,\r\n",
            "     А у себя не находил\r\n",
            "     Не только милых душ – могил!\r\n",
            "     Тогда, пустых не тратя слез,\r\n",
            "     В душе я клятву произнес:\r\n",
            "     Хотя на миг ког\n"
          ]
        }
      ]
    },
    {
      "cell_type": "code",
      "source": [
        "text_ = generate_text(model, start_string=u\"Прекрасны горы под луной \", temperature=.01)\n",
        "print(text_)"
      ],
      "metadata": {
        "colab": {
          "base_uri": "https://localhost:8080/"
        },
        "id": "0x5mU0Ejbprn",
        "outputId": "4b669770-2843-4aa5-c518-bb9351bb73e0"
      },
      "execution_count": 88,
      "outputs": [
        {
          "output_type": "stream",
          "name": "stdout",
          "text": [
            "Прекрасны горы под луной дад коста,\r\n",
            "     И толь в прокладных страных стенах\r\n",
            "     Душой дитя, судьбой монах.\r\n",
            "     Я никому не мог сказать\r\n",
            "     Священных слов «отец» и «мать».\r\n",
            "     Конечно, ты хотел, старик,\r\n",
            "     Чтоб я в обители отвык\r\n",
            "     От этих сладостных имен, –\r\n",
            "     Напрасно: звук их был рожден\r\n",
            "     Со мной. И видел у других\r\n",
            "     Отчизну, дом, друзей, родных,\r\n",
            "     А у себя не находил\r\n",
            "     Не только милых душ – могил!\r\n",
            "     Тогда, пустых не тратя слез,\r\n",
            "     В душе я клятву произнес:\r\n",
            "     Хотя на миг ког\n"
          ]
        }
      ]
    },
    {
      "cell_type": "code",
      "source": [
        "len(text_)"
      ],
      "metadata": {
        "colab": {
          "base_uri": "https://localhost:8080/"
        },
        "id": "h-k54wz5RFnZ",
        "outputId": "dd48fca2-4872-40b2-f016-99eb39118359"
      },
      "execution_count": 38,
      "outputs": [
        {
          "output_type": "execute_result",
          "data": {
            "text/plain": [
              "515"
            ]
          },
          "metadata": {},
          "execution_count": 38
        }
      ]
    },
    {
      "cell_type": "markdown",
      "source": [
        "**Выводы по генерации**\n",
        "- На прошлых курсах пробовал генерацию, и иногда получалось так, что генерируются в цикле 2-3 токена. Тут порадовался - модель воспроизводит длинную последовательность.\n",
        "- Модель вместо составления смешных предложений из отдельных слов сваливается в воспроизведение нескольких или одного отрывка из произведения. Тут, наверное, проблема в том, что Мцыри - довольно короткое произведение, и разброс различных сочетаний букв (и слов тоже) у него ограничен. Поэтому модель просто переобучилась на отдельные участки текста и воспроизводит их.\n",
        "- Разные начальные строки дают сваливаться в воспроизведение разных участков произведения. Но смотреть на этот процесс надо следующим образом: разные начальные строки генерируют разный первый начальный символ. А уже с этого начального символа модель воспроизводит определенный участок текста.\n",
        "- Прбовал изменить функцию генерации, после первого предикта подавая снова на вход не один символ, а входную строку + первый символ. Но качество генерации это не изменило, а воспроизведение одного участка текста даже усилилось. Так как при генерации из одного символа уровень неопределонности предсказания следующего символа выше, чем если следующий символ предсказывается от целой строки."
      ],
      "metadata": {
        "id": "TQMXdKh3b3yc"
      }
    }
  ]
}